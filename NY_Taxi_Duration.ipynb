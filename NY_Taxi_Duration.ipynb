{
  "nbformat": 4,
  "nbformat_minor": 0,
  "metadata": {
    "colab": {
      "name": "NY Taxi Duration",
      "version": "0.3.2",
      "provenance": [],
      "include_colab_link": true
    },
    "kernelspec": {
      "name": "python3",
      "display_name": "Python 3"
    },
    "accelerator": "GPU"
  },
  "cells": [
    {
      "cell_type": "markdown",
      "metadata": {
        "id": "view-in-github",
        "colab_type": "text"
      },
      "source": [
        "<a href=\"https://colab.research.google.com/github/jkAtGitHub/New-York-Taxi/blob/master/NY_Taxi_Duration.ipynb\" target=\"_parent\"><img src=\"https://colab.research.google.com/assets/colab-badge.svg\" alt=\"Open In Colab\"/></a>"
      ]
    },
    {
      "metadata": {
        "id": "lUTawZf3vDjL",
        "colab_type": "code",
        "colab": {}
      },
      "cell_type": "code",
      "source": [
        "!pip install osmnx\n",
        "!pip install geopandas"
      ],
      "execution_count": 0,
      "outputs": []
    },
    {
      "metadata": {
        "id": "kYZ0mRGmv-7j",
        "colab_type": "code",
        "colab": {}
      },
      "cell_type": "code",
      "source": [
        "!apt-get install python3-rtree"
      ],
      "execution_count": 0,
      "outputs": []
    },
    {
      "metadata": {
        "id": "ayk4WKCRf0cu",
        "colab_type": "code",
        "colab": {}
      },
      "cell_type": "code",
      "source": [
        "!apt-get install graphviz\n"
      ],
      "execution_count": 0,
      "outputs": []
    },
    {
      "metadata": {
        "id": "XAO8m_9exJc3",
        "colab_type": "code",
        "colab": {}
      },
      "cell_type": "code",
      "source": [
        "import geopandas as gpd\n",
        "import pandas as pd\n",
        "import osmnx as ox\n",
        "import matplotlib.pyplot as plt\n",
        "import numpy as np\n",
        "from shapely.geometry import Point, Polygon, MultiPolygon"
      ],
      "execution_count": 0,
      "outputs": []
    },
    {
      "metadata": {
        "id": "4I1W4c1l9uLY",
        "colab_type": "code",
        "colab": {}
      },
      "cell_type": "code",
      "source": [
        "def display_all(df):\n",
        "    with pd.option_context(\"display.max_rows\", 1000):\n",
        "        with pd.option_context(\"display.max_columns\", 1000):\n",
        "            return df"
      ],
      "execution_count": 0,
      "outputs": []
    },
    {
      "metadata": {
        "id": "PEK5vJTgzabT",
        "colab_type": "code",
        "colab": {}
      },
      "cell_type": "code",
      "source": [
        "from google.colab import drive\n",
        "drive.mount('/content/gdrive')"
      ],
      "execution_count": 0,
      "outputs": []
    },
    {
      "metadata": {
        "id": "HMeTQ0Zx0kVd",
        "colab_type": "code",
        "colab": {}
      },
      "cell_type": "code",
      "source": [
        "df = pd.read_csv('/content/gdrive/My Drive/Colab Notebooks/NYT/train.csv', parse_dates=[\"pickup_datetime\", \"dropoff_datetime\"])"
      ],
      "execution_count": 0,
      "outputs": []
    },
    {
      "metadata": {
        "id": "g1tcgVvo3exg",
        "colab_type": "code",
        "outputId": "6a9d3f39-d1cd-4a2f-edcc-3a786e290bed",
        "colab": {
          "base_uri": "https://localhost:8080/",
          "height": 204
        }
      },
      "cell_type": "code",
      "source": [
        "df.tail()"
      ],
      "execution_count": 7,
      "outputs": [
        {
          "output_type": "execute_result",
          "data": {
            "text/html": [
              "<div>\n",
              "<style scoped>\n",
              "    .dataframe tbody tr th:only-of-type {\n",
              "        vertical-align: middle;\n",
              "    }\n",
              "\n",
              "    .dataframe tbody tr th {\n",
              "        vertical-align: top;\n",
              "    }\n",
              "\n",
              "    .dataframe thead th {\n",
              "        text-align: right;\n",
              "    }\n",
              "</style>\n",
              "<table border=\"1\" class=\"dataframe\">\n",
              "  <thead>\n",
              "    <tr style=\"text-align: right;\">\n",
              "      <th></th>\n",
              "      <th>id</th>\n",
              "      <th>vendor_id</th>\n",
              "      <th>pickup_datetime</th>\n",
              "      <th>dropoff_datetime</th>\n",
              "      <th>passenger_count</th>\n",
              "      <th>pickup_longitude</th>\n",
              "      <th>pickup_latitude</th>\n",
              "      <th>dropoff_longitude</th>\n",
              "      <th>dropoff_latitude</th>\n",
              "      <th>store_and_fwd_flag</th>\n",
              "      <th>trip_duration</th>\n",
              "    </tr>\n",
              "  </thead>\n",
              "  <tbody>\n",
              "    <tr>\n",
              "      <th>1458639</th>\n",
              "      <td>id2376096</td>\n",
              "      <td>2</td>\n",
              "      <td>2016-04-08 13:31:04</td>\n",
              "      <td>2016-04-08 13:44:02</td>\n",
              "      <td>4</td>\n",
              "      <td>-73.982201</td>\n",
              "      <td>40.745522</td>\n",
              "      <td>-73.994911</td>\n",
              "      <td>40.740170</td>\n",
              "      <td>N</td>\n",
              "      <td>778</td>\n",
              "    </tr>\n",
              "    <tr>\n",
              "      <th>1458640</th>\n",
              "      <td>id1049543</td>\n",
              "      <td>1</td>\n",
              "      <td>2016-01-10 07:35:15</td>\n",
              "      <td>2016-01-10 07:46:10</td>\n",
              "      <td>1</td>\n",
              "      <td>-74.000946</td>\n",
              "      <td>40.747379</td>\n",
              "      <td>-73.970184</td>\n",
              "      <td>40.796547</td>\n",
              "      <td>N</td>\n",
              "      <td>655</td>\n",
              "    </tr>\n",
              "    <tr>\n",
              "      <th>1458641</th>\n",
              "      <td>id2304944</td>\n",
              "      <td>2</td>\n",
              "      <td>2016-04-22 06:57:41</td>\n",
              "      <td>2016-04-22 07:10:25</td>\n",
              "      <td>1</td>\n",
              "      <td>-73.959129</td>\n",
              "      <td>40.768799</td>\n",
              "      <td>-74.004433</td>\n",
              "      <td>40.707371</td>\n",
              "      <td>N</td>\n",
              "      <td>764</td>\n",
              "    </tr>\n",
              "    <tr>\n",
              "      <th>1458642</th>\n",
              "      <td>id2714485</td>\n",
              "      <td>1</td>\n",
              "      <td>2016-01-05 15:56:26</td>\n",
              "      <td>2016-01-05 16:02:39</td>\n",
              "      <td>1</td>\n",
              "      <td>-73.982079</td>\n",
              "      <td>40.749062</td>\n",
              "      <td>-73.974632</td>\n",
              "      <td>40.757107</td>\n",
              "      <td>N</td>\n",
              "      <td>373</td>\n",
              "    </tr>\n",
              "    <tr>\n",
              "      <th>1458643</th>\n",
              "      <td>id1209952</td>\n",
              "      <td>1</td>\n",
              "      <td>2016-04-05 14:44:25</td>\n",
              "      <td>2016-04-05 14:47:43</td>\n",
              "      <td>1</td>\n",
              "      <td>-73.979538</td>\n",
              "      <td>40.781750</td>\n",
              "      <td>-73.972809</td>\n",
              "      <td>40.790585</td>\n",
              "      <td>N</td>\n",
              "      <td>198</td>\n",
              "    </tr>\n",
              "  </tbody>\n",
              "</table>\n",
              "</div>"
            ],
            "text/plain": [
              "                id  vendor_id     pickup_datetime    dropoff_datetime  \\\n",
              "1458639  id2376096          2 2016-04-08 13:31:04 2016-04-08 13:44:02   \n",
              "1458640  id1049543          1 2016-01-10 07:35:15 2016-01-10 07:46:10   \n",
              "1458641  id2304944          2 2016-04-22 06:57:41 2016-04-22 07:10:25   \n",
              "1458642  id2714485          1 2016-01-05 15:56:26 2016-01-05 16:02:39   \n",
              "1458643  id1209952          1 2016-04-05 14:44:25 2016-04-05 14:47:43   \n",
              "\n",
              "         passenger_count  pickup_longitude  pickup_latitude  \\\n",
              "1458639                4        -73.982201        40.745522   \n",
              "1458640                1        -74.000946        40.747379   \n",
              "1458641                1        -73.959129        40.768799   \n",
              "1458642                1        -73.982079        40.749062   \n",
              "1458643                1        -73.979538        40.781750   \n",
              "\n",
              "         dropoff_longitude  dropoff_latitude store_and_fwd_flag  trip_duration  \n",
              "1458639         -73.994911         40.740170                  N            778  \n",
              "1458640         -73.970184         40.796547                  N            655  \n",
              "1458641         -74.004433         40.707371                  N            764  \n",
              "1458642         -73.974632         40.757107                  N            373  \n",
              "1458643         -73.972809         40.790585                  N            198  "
            ]
          },
          "metadata": {
            "tags": []
          },
          "execution_count": 7
        }
      ]
    },
    {
      "metadata": {
        "id": "3FKzClrzoTI_",
        "colab_type": "text"
      },
      "cell_type": "markdown",
      "source": [
        "# Add pickup and dropoff location as Point geometry"
      ]
    },
    {
      "metadata": {
        "id": "UwVxBp1lUXWa",
        "colab_type": "code",
        "outputId": "a17c9b2d-3cf9-4766-9dd9-6a5be62424c8",
        "colab": {
          "base_uri": "https://localhost:8080/",
          "height": 374
        }
      },
      "cell_type": "code",
      "source": [
        "pick_geometry = [Point(xy) for xy in zip(df.pickup_longitude, df.pickup_latitude)]\n",
        "crs = {'init': 'epsg:4326'}\n",
        "gdf = gpd.GeoDataFrame(df, crs=crs, geometry=pick_geometry)\n",
        "dropoff_geometry = [Point(xy) for xy in zip(df.dropoff_longitude, df.dropoff_latitude)]\n",
        "gdf[\"drop_geometry\"] = dropoff_geometry\n",
        "gdf.tail()"
      ],
      "execution_count": 8,
      "outputs": [
        {
          "output_type": "execute_result",
          "data": {
            "text/html": [
              "<div>\n",
              "<style scoped>\n",
              "    .dataframe tbody tr th:only-of-type {\n",
              "        vertical-align: middle;\n",
              "    }\n",
              "\n",
              "    .dataframe tbody tr th {\n",
              "        vertical-align: top;\n",
              "    }\n",
              "\n",
              "    .dataframe thead th {\n",
              "        text-align: right;\n",
              "    }\n",
              "</style>\n",
              "<table border=\"1\" class=\"dataframe\">\n",
              "  <thead>\n",
              "    <tr style=\"text-align: right;\">\n",
              "      <th></th>\n",
              "      <th>id</th>\n",
              "      <th>vendor_id</th>\n",
              "      <th>pickup_datetime</th>\n",
              "      <th>dropoff_datetime</th>\n",
              "      <th>passenger_count</th>\n",
              "      <th>pickup_longitude</th>\n",
              "      <th>pickup_latitude</th>\n",
              "      <th>dropoff_longitude</th>\n",
              "      <th>dropoff_latitude</th>\n",
              "      <th>store_and_fwd_flag</th>\n",
              "      <th>trip_duration</th>\n",
              "      <th>geometry</th>\n",
              "      <th>drop_geometry</th>\n",
              "    </tr>\n",
              "  </thead>\n",
              "  <tbody>\n",
              "    <tr>\n",
              "      <th>1458639</th>\n",
              "      <td>id2376096</td>\n",
              "      <td>2</td>\n",
              "      <td>2016-04-08 13:31:04</td>\n",
              "      <td>2016-04-08 13:44:02</td>\n",
              "      <td>4</td>\n",
              "      <td>-73.982201</td>\n",
              "      <td>40.745522</td>\n",
              "      <td>-73.994911</td>\n",
              "      <td>40.740170</td>\n",
              "      <td>N</td>\n",
              "      <td>778</td>\n",
              "      <td>POINT (-73.98220062255859 40.74552154541016)</td>\n",
              "      <td>POINT (-73.99491119384766 40.74016952514648)</td>\n",
              "    </tr>\n",
              "    <tr>\n",
              "      <th>1458640</th>\n",
              "      <td>id1049543</td>\n",
              "      <td>1</td>\n",
              "      <td>2016-01-10 07:35:15</td>\n",
              "      <td>2016-01-10 07:46:10</td>\n",
              "      <td>1</td>\n",
              "      <td>-74.000946</td>\n",
              "      <td>40.747379</td>\n",
              "      <td>-73.970184</td>\n",
              "      <td>40.796547</td>\n",
              "      <td>N</td>\n",
              "      <td>655</td>\n",
              "      <td>POINT (-74.00094604492188 40.74737930297852)</td>\n",
              "      <td>POINT (-73.97018432617188 40.79654693603516)</td>\n",
              "    </tr>\n",
              "    <tr>\n",
              "      <th>1458641</th>\n",
              "      <td>id2304944</td>\n",
              "      <td>2</td>\n",
              "      <td>2016-04-22 06:57:41</td>\n",
              "      <td>2016-04-22 07:10:25</td>\n",
              "      <td>1</td>\n",
              "      <td>-73.959129</td>\n",
              "      <td>40.768799</td>\n",
              "      <td>-74.004433</td>\n",
              "      <td>40.707371</td>\n",
              "      <td>N</td>\n",
              "      <td>764</td>\n",
              "      <td>POINT (-73.95912933349609 40.768798828125)</td>\n",
              "      <td>POINT (-74.00443267822266 40.70737075805664)</td>\n",
              "    </tr>\n",
              "    <tr>\n",
              "      <th>1458642</th>\n",
              "      <td>id2714485</td>\n",
              "      <td>1</td>\n",
              "      <td>2016-01-05 15:56:26</td>\n",
              "      <td>2016-01-05 16:02:39</td>\n",
              "      <td>1</td>\n",
              "      <td>-73.982079</td>\n",
              "      <td>40.749062</td>\n",
              "      <td>-73.974632</td>\n",
              "      <td>40.757107</td>\n",
              "      <td>N</td>\n",
              "      <td>373</td>\n",
              "      <td>POINT (-73.98207855224609 40.74906158447266)</td>\n",
              "      <td>POINT (-73.97463226318358 40.75710678100585)</td>\n",
              "    </tr>\n",
              "    <tr>\n",
              "      <th>1458643</th>\n",
              "      <td>id1209952</td>\n",
              "      <td>1</td>\n",
              "      <td>2016-04-05 14:44:25</td>\n",
              "      <td>2016-04-05 14:47:43</td>\n",
              "      <td>1</td>\n",
              "      <td>-73.979538</td>\n",
              "      <td>40.781750</td>\n",
              "      <td>-73.972809</td>\n",
              "      <td>40.790585</td>\n",
              "      <td>N</td>\n",
              "      <td>198</td>\n",
              "      <td>POINT (-73.9795379638672 40.7817497253418)</td>\n",
              "      <td>POINT (-73.97280883789062 40.79058456420898)</td>\n",
              "    </tr>\n",
              "  </tbody>\n",
              "</table>\n",
              "</div>"
            ],
            "text/plain": [
              "                id  vendor_id     pickup_datetime    dropoff_datetime  \\\n",
              "1458639  id2376096          2 2016-04-08 13:31:04 2016-04-08 13:44:02   \n",
              "1458640  id1049543          1 2016-01-10 07:35:15 2016-01-10 07:46:10   \n",
              "1458641  id2304944          2 2016-04-22 06:57:41 2016-04-22 07:10:25   \n",
              "1458642  id2714485          1 2016-01-05 15:56:26 2016-01-05 16:02:39   \n",
              "1458643  id1209952          1 2016-04-05 14:44:25 2016-04-05 14:47:43   \n",
              "\n",
              "         passenger_count  pickup_longitude  pickup_latitude  \\\n",
              "1458639                4        -73.982201        40.745522   \n",
              "1458640                1        -74.000946        40.747379   \n",
              "1458641                1        -73.959129        40.768799   \n",
              "1458642                1        -73.982079        40.749062   \n",
              "1458643                1        -73.979538        40.781750   \n",
              "\n",
              "         dropoff_longitude  dropoff_latitude store_and_fwd_flag  \\\n",
              "1458639         -73.994911         40.740170                  N   \n",
              "1458640         -73.970184         40.796547                  N   \n",
              "1458641         -74.004433         40.707371                  N   \n",
              "1458642         -73.974632         40.757107                  N   \n",
              "1458643         -73.972809         40.790585                  N   \n",
              "\n",
              "         trip_duration                                      geometry  \\\n",
              "1458639            778  POINT (-73.98220062255859 40.74552154541016)   \n",
              "1458640            655  POINT (-74.00094604492188 40.74737930297852)   \n",
              "1458641            764    POINT (-73.95912933349609 40.768798828125)   \n",
              "1458642            373  POINT (-73.98207855224609 40.74906158447266)   \n",
              "1458643            198    POINT (-73.9795379638672 40.7817497253418)   \n",
              "\n",
              "                                        drop_geometry  \n",
              "1458639  POINT (-73.99491119384766 40.74016952514648)  \n",
              "1458640  POINT (-73.97018432617188 40.79654693603516)  \n",
              "1458641  POINT (-74.00443267822266 40.70737075805664)  \n",
              "1458642  POINT (-73.97463226318358 40.75710678100585)  \n",
              "1458643  POINT (-73.97280883789062 40.79058456420898)  "
            ]
          },
          "metadata": {
            "tags": []
          },
          "execution_count": 8
        }
      ]
    },
    {
      "metadata": {
        "id": "rXnl4VAN3kKd",
        "colab_type": "code",
        "colab": {}
      },
      "cell_type": "code",
      "source": [
        "nybb_path = gpd.datasets.get_path('nybb')\n",
        "boros = gpd.read_file(nybb_path)\n",
        "boros.set_index('BoroCode', inplace=True)"
      ],
      "execution_count": 0,
      "outputs": []
    },
    {
      "metadata": {
        "id": "TfzpREeH5v87",
        "colab_type": "code",
        "outputId": "10abfc2c-9267-4067-9db0-eea7094d7914",
        "colab": {
          "base_uri": "https://localhost:8080/",
          "height": 235
        }
      },
      "cell_type": "code",
      "source": [
        "boros = boros.to_crs(epsg = 4326)\n",
        "boros"
      ],
      "execution_count": 10,
      "outputs": [
        {
          "output_type": "execute_result",
          "data": {
            "text/html": [
              "<div>\n",
              "<style scoped>\n",
              "    .dataframe tbody tr th:only-of-type {\n",
              "        vertical-align: middle;\n",
              "    }\n",
              "\n",
              "    .dataframe tbody tr th {\n",
              "        vertical-align: top;\n",
              "    }\n",
              "\n",
              "    .dataframe thead th {\n",
              "        text-align: right;\n",
              "    }\n",
              "</style>\n",
              "<table border=\"1\" class=\"dataframe\">\n",
              "  <thead>\n",
              "    <tr style=\"text-align: right;\">\n",
              "      <th></th>\n",
              "      <th>BoroName</th>\n",
              "      <th>Shape_Leng</th>\n",
              "      <th>Shape_Area</th>\n",
              "      <th>geometry</th>\n",
              "    </tr>\n",
              "    <tr>\n",
              "      <th>BoroCode</th>\n",
              "      <th></th>\n",
              "      <th></th>\n",
              "      <th></th>\n",
              "      <th></th>\n",
              "    </tr>\n",
              "  </thead>\n",
              "  <tbody>\n",
              "    <tr>\n",
              "      <th>5</th>\n",
              "      <td>Staten Island</td>\n",
              "      <td>330470.010332</td>\n",
              "      <td>1.623820e+09</td>\n",
              "      <td>(POLYGON ((-74.05050806403247 40.5664220341607...</td>\n",
              "    </tr>\n",
              "    <tr>\n",
              "      <th>4</th>\n",
              "      <td>Queens</td>\n",
              "      <td>896344.047763</td>\n",
              "      <td>3.045213e+09</td>\n",
              "      <td>(POLYGON ((-73.83668274106707 40.5949466970158...</td>\n",
              "    </tr>\n",
              "    <tr>\n",
              "      <th>3</th>\n",
              "      <td>Brooklyn</td>\n",
              "      <td>741080.523166</td>\n",
              "      <td>1.937479e+09</td>\n",
              "      <td>(POLYGON ((-73.86706149472118 40.5820879767934...</td>\n",
              "    </tr>\n",
              "    <tr>\n",
              "      <th>1</th>\n",
              "      <td>Manhattan</td>\n",
              "      <td>359299.096471</td>\n",
              "      <td>6.364715e+08</td>\n",
              "      <td>(POLYGON ((-74.01092841268031 40.6844914725429...</td>\n",
              "    </tr>\n",
              "    <tr>\n",
              "      <th>2</th>\n",
              "      <td>Bronx</td>\n",
              "      <td>464392.991824</td>\n",
              "      <td>1.186925e+09</td>\n",
              "      <td>(POLYGON ((-73.89680883223774 40.7958084451597...</td>\n",
              "    </tr>\n",
              "  </tbody>\n",
              "</table>\n",
              "</div>"
            ],
            "text/plain": [
              "               BoroName     Shape_Leng    Shape_Area  \\\n",
              "BoroCode                                               \n",
              "5         Staten Island  330470.010332  1.623820e+09   \n",
              "4                Queens  896344.047763  3.045213e+09   \n",
              "3              Brooklyn  741080.523166  1.937479e+09   \n",
              "1             Manhattan  359299.096471  6.364715e+08   \n",
              "2                 Bronx  464392.991824  1.186925e+09   \n",
              "\n",
              "                                                   geometry  \n",
              "BoroCode                                                     \n",
              "5         (POLYGON ((-74.05050806403247 40.5664220341607...  \n",
              "4         (POLYGON ((-73.83668274106707 40.5949466970158...  \n",
              "3         (POLYGON ((-73.86706149472118 40.5820879767934...  \n",
              "1         (POLYGON ((-74.01092841268031 40.6844914725429...  \n",
              "2         (POLYGON ((-73.89680883223774 40.7958084451597...  "
            ]
          },
          "metadata": {
            "tags": []
          },
          "execution_count": 10
        }
      ]
    },
    {
      "metadata": {
        "id": "br6BCZGg6KLq",
        "colab_type": "code",
        "outputId": "f5bdce76-c88f-460e-b664-e7708f652459",
        "colab": {
          "base_uri": "https://localhost:8080/",
          "height": 365
        }
      },
      "cell_type": "code",
      "source": [
        "boros.plot(column=\"BoroName\", legend = True, alpha = 0.5, )"
      ],
      "execution_count": 11,
      "outputs": [
        {
          "output_type": "execute_result",
          "data": {
            "text/plain": [
              "<matplotlib.axes._subplots.AxesSubplot at 0x7fe3db3584e0>"
            ]
          },
          "metadata": {
            "tags": []
          },
          "execution_count": 11
        },
        {
          "output_type": "display_data",
          "data": {
            "image/png": "[encoded data removed]",
            "text/plain": [
              "<matplotlib.figure.Figure at 0x7fe3d405d080>"
            ]
          },
          "metadata": {
            "tags": []
          }
        }
      ]
    },
    {
      "metadata": {
        "id": "Yt680MZe6ODo",
        "colab_type": "code",
        "outputId": "5f07f88e-eb44-4349-85a6-e1317ce9b10e",
        "colab": {
          "base_uri": "https://localhost:8080/",
          "height": 104
        }
      },
      "cell_type": "code",
      "source": [
        "for i, v in boros.iterrows():\n",
        "    print(i, v[\"BoroName\"], v[\"geometry\"].area)"
      ],
      "execution_count": 12,
      "outputs": [
        {
          "output_type": "stream",
          "text": [
            "5 Staten Island 0.016045532498841275\n",
            "4 Queens 0.030147563426067003\n",
            "3 Brooklyn 0.019163078422753603\n",
            "1 Manhattan 0.006307586115482834\n",
            "2 Bronx 0.01177591275203844\n"
          ],
          "name": "stdout"
        }
      ]
    },
    {
      "metadata": {
        "id": "qlYc9fN79I0w",
        "colab_type": "code",
        "colab": {}
      },
      "cell_type": "code",
      "source": [
        "from descartes import PolygonPatch"
      ],
      "execution_count": 0,
      "outputs": []
    },
    {
      "metadata": {
        "id": "nODg8P-V9iym",
        "colab_type": "code",
        "outputId": "b2a5d009-0332-4ff4-92eb-a45b595ab20d",
        "colab": {
          "base_uri": "https://localhost:8080/",
          "height": 375
        }
      },
      "cell_type": "code",
      "source": [
        "mp = boros.iloc[3][\"geometry\"]\n",
        "west, south, east, north = mp.bounds\n",
        "fig, ax = plt.subplots(figsize=(6,6))\n",
        "for polygon in mp:\n",
        "    patch = PolygonPatch(polygon, fc='#cccccc', ec='k', alpha = 0.5, zorder=2)\n",
        "    ax.add_patch(patch)\n",
        "    \n",
        "ax.set_xlim(west, east)\n",
        "ax.set_ylim(south, north)\n",
        "ax.axis('off')\n",
        "plt.show()"
      ],
      "execution_count": 14,
      "outputs": [
        {
          "output_type": "display_data",
          "data": {
            "image/png": "[encoded data removed]",
            "text/plain": [
              "<matplotlib.figure.Figure at 0x7fe3d82730f0>"
            ]
          },
          "metadata": {
            "tags": []
          }
        }
      ]
    },
    {
      "metadata": {
        "id": "hpede49fo5on",
        "colab_type": "text"
      },
      "cell_type": "markdown",
      "source": [
        "## Cut geometry into quadrants"
      ]
    },
    {
      "metadata": {
        "id": "ngVpKSHE9qiH",
        "colab_type": "code",
        "colab": {}
      },
      "cell_type": "code",
      "source": [
        "geometry_cut = ox.quadrat_cut_geometry(mp, quadrat_width=0.005)"
      ],
      "execution_count": 0,
      "outputs": []
    },
    {
      "metadata": {
        "id": "xlROa5GhSkDU",
        "colab_type": "code",
        "outputId": "ea172b30-7ffa-4b9a-c20e-b14282907cd2",
        "colab": {
          "base_uri": "https://localhost:8080/",
          "height": 375
        }
      },
      "cell_type": "code",
      "source": [
        "# plot the city\n",
        "fig, ax = plt.subplots(figsize=(6,6))\n",
        "for polygon in geometry_cut:\n",
        "    patch = PolygonPatch(polygon, fc='#cccccc', ec='k', alpha=0.5, zorder=2)\n",
        "    ax.add_patch(patch)\n",
        "    \n",
        "ax.set_xlim(west, east)\n",
        "ax.set_ylim(south, north)\n",
        "ax.axis('off')\n",
        "plt.show()"
      ],
      "execution_count": 16,
      "outputs": [
        {
          "output_type": "display_data",
          "data": {
            "image/png": "[encoded data removed]",
            "text/plain": [
              "<matplotlib.figure.Figure at 0x7fe3ce055668>"
            ]
          },
          "metadata": {
            "tags": []
          }
        }
      ]
    },
    {
      "metadata": {
        "id": "a6L8hEYUc2Nm",
        "colab_type": "code",
        "colab": {}
      },
      "cell_type": "code",
      "source": [
        "from multiprocessing import Pool, cpu_count\n",
        "num_cores = cpu_count()"
      ],
      "execution_count": 0,
      "outputs": []
    },
    {
      "metadata": {
        "id": "jhRW9qqXTuxo",
        "colab_type": "code",
        "colab": {}
      },
      "cell_type": "code",
      "source": [
        "def return_matches(item):\n",
        "    poly = item[\"geometry\"]\n",
        "    poly = poly.buffer(1e-14).buffer(0)\n",
        "    possible_matches_index = list(pindex.intersection(poly.bounds))\n",
        "    possible_matches = gdf.iloc[possible_matches_index]\n",
        "    precise_matches = possible_matches[possible_matches.intersects(poly)]\n",
        "    for key, value in item.items():\n",
        "        if key != \"geometry\":\n",
        "            precise_matches.iloc[:][key] = value\n",
        "    return precise_matches    \n",
        "    \n",
        "\n",
        "def parallelize_dataframe(func, iterator):\n",
        "    with Pool(num_cores) as pool:\n",
        "        results = pd.concat(pool.map(func, iterator))\n",
        "        return results       \n",
        "       "
      ],
      "execution_count": 0,
      "outputs": []
    },
    {
      "metadata": {
        "id": "bzrUJIhPfMjJ",
        "colab_type": "code",
        "outputId": "03dab36c-4529-450f-a18b-0cc1dde3f43f",
        "colab": {
          "base_uri": "https://localhost:8080/",
          "height": 52
        }
      },
      "cell_type": "code",
      "source": [
        "%%time \n",
        "\n",
        "pickup_points_within_geometry = pd.DataFrame()\n",
        "gdf.set_geometry(\"geometry\", inplace=True)\n",
        "pindex = gdf.sindex\n",
        "\n",
        "for i, v in boros.iterrows():\n",
        "    geometry = v[\"geometry\"]\n",
        "    boro_name = v[\"BoroName\"]\n",
        "    geometry_cut = ox.quadrat_cut_geometry(geometry, quadrat_width=0.005)\n",
        "    l = len(geometry_cut)\n",
        "    iterator = [{\"pickup_boro_name\": boro_name, \"geometry\" : geometry_cut[i]} for i in range(l)]\n",
        "    pickup_points_within_geometry = pickup_points_within_geometry.append(parallelize_dataframe(return_matches, iterator))"
      ],
      "execution_count": 20,
      "outputs": [
        {
          "output_type": "stream",
          "text": [
            "CPU times: user 2min 1s, sys: 3.13 s, total: 2min 5s\n",
            "Wall time: 3min 58s\n"
          ],
          "name": "stdout"
        }
      ]
    },
    {
      "metadata": {
        "id": "wC-4wUpHW-dt",
        "colab_type": "code",
        "outputId": "0904ada5-ea23-48d4-c2be-1c57ff28cbde",
        "colab": {
          "base_uri": "https://localhost:8080/",
          "height": 52
        }
      },
      "cell_type": "code",
      "source": [
        "%%time \n",
        "\n",
        "dropoff_points_within_geometry = pd.DataFrame()\n",
        "gdf.set_geometry(\"drop_geometry\", inplace=True)\n",
        "pindex = gdf.sindex\n",
        "\n",
        "for i, v in boros.iterrows():\n",
        "    geometry = v[\"geometry\"]\n",
        "    boro_name = v[\"BoroName\"]\n",
        "    geometry_cut = ox.quadrat_cut_geometry(geometry, quadrat_width=0.005)\n",
        "    l = len(geometry_cut)\n",
        "    iterator = [{\"dropoff_boro_name\": boro_name, \"geometry\" : geometry_cut[i]} for i in range(l)]\n",
        "    dropoff_points_within_geometry = dropoff_points_within_geometry.append(parallelize_dataframe(return_matches, iterator))        \n"
      ],
      "execution_count": 21,
      "outputs": [
        {
          "output_type": "stream",
          "text": [
            "CPU times: user 2min 6s, sys: 4.6 s, total: 2min 11s\n",
            "Wall time: 4min 12s\n"
          ],
          "name": "stdout"
        }
      ]
    },
    {
      "metadata": {
        "id": "aIg3o298jt0t",
        "colab_type": "code",
        "colab": {}
      },
      "cell_type": "code",
      "source": [
        "dropoff_points_within_geometry.reset_index(drop = True, inplace=True)\n",
        "pickup_points_within_geometry.reset_index(drop=True, inplace=True)"
      ],
      "execution_count": 0,
      "outputs": []
    },
    {
      "metadata": {
        "id": "eVtTtaWW3LL4",
        "colab_type": "code",
        "outputId": "8cc284ab-3955-4278-82d9-494ca44a0817",
        "colab": {
          "base_uri": "https://localhost:8080/",
          "height": 578
        }
      },
      "cell_type": "code",
      "source": [
        "dropoff_points_within_geometry = dropoff_points_within_geometry[[\"id\", \"dropoff_boro_name\"]]\n",
        "merged_df = pd.merge(pickup_points_within_geometry, dropoff_points_within_geometry, on='id', how=\"inner\")\n",
        "display_all(merged_df.tail().T)"
      ],
      "execution_count": 23,
      "outputs": [
        {
          "output_type": "execute_result",
          "data": {
            "text/html": [
              "<div>\n",
              "<style scoped>\n",
              "    .dataframe tbody tr th:only-of-type {\n",
              "        vertical-align: middle;\n",
              "    }\n",
              "\n",
              "    .dataframe tbody tr th {\n",
              "        vertical-align: top;\n",
              "    }\n",
              "\n",
              "    .dataframe thead th {\n",
              "        text-align: right;\n",
              "    }\n",
              "</style>\n",
              "<table border=\"1\" class=\"dataframe\">\n",
              "  <thead>\n",
              "    <tr style=\"text-align: right;\">\n",
              "      <th></th>\n",
              "      <th>1452049</th>\n",
              "      <th>1452050</th>\n",
              "      <th>1452051</th>\n",
              "      <th>1452052</th>\n",
              "      <th>1452053</th>\n",
              "    </tr>\n",
              "  </thead>\n",
              "  <tbody>\n",
              "    <tr>\n",
              "      <th>id</th>\n",
              "      <td>id0434416</td>\n",
              "      <td>id0446131</td>\n",
              "      <td>id2807846</td>\n",
              "      <td>id0485626</td>\n",
              "      <td>id2435486</td>\n",
              "    </tr>\n",
              "    <tr>\n",
              "      <th>vendor_id</th>\n",
              "      <td>2</td>\n",
              "      <td>2</td>\n",
              "      <td>2</td>\n",
              "      <td>1</td>\n",
              "      <td>2</td>\n",
              "    </tr>\n",
              "    <tr>\n",
              "      <th>pickup_datetime</th>\n",
              "      <td>2016-02-28 19:39:47</td>\n",
              "      <td>2016-06-29 19:30:12</td>\n",
              "      <td>2016-01-18 17:15:37</td>\n",
              "      <td>2016-04-01 07:49:30</td>\n",
              "      <td>2016-06-04 03:43:55</td>\n",
              "    </tr>\n",
              "    <tr>\n",
              "      <th>dropoff_datetime</th>\n",
              "      <td>2016-02-28 19:49:06</td>\n",
              "      <td>2016-06-29 19:41:26</td>\n",
              "      <td>2016-01-18 17:33:36</td>\n",
              "      <td>2016-04-01 07:55:30</td>\n",
              "      <td>2016-06-04 04:00:18</td>\n",
              "    </tr>\n",
              "    <tr>\n",
              "      <th>passenger_count</th>\n",
              "      <td>1</td>\n",
              "      <td>3</td>\n",
              "      <td>1</td>\n",
              "      <td>1</td>\n",
              "      <td>1</td>\n",
              "    </tr>\n",
              "    <tr>\n",
              "      <th>pickup_longitude</th>\n",
              "      <td>-73.8319</td>\n",
              "      <td>-73.8316</td>\n",
              "      <td>-73.831</td>\n",
              "      <td>-73.8271</td>\n",
              "      <td>-73.8264</td>\n",
              "    </tr>\n",
              "    <tr>\n",
              "      <th>pickup_latitude</th>\n",
              "      <td>40.8821</td>\n",
              "      <td>40.8847</td>\n",
              "      <td>40.8705</td>\n",
              "      <td>40.8789</td>\n",
              "      <td>40.8619</td>\n",
              "    </tr>\n",
              "    <tr>\n",
              "      <th>dropoff_longitude</th>\n",
              "      <td>-73.8659</td>\n",
              "      <td>-73.8501</td>\n",
              "      <td>-73.8291</td>\n",
              "      <td>-73.8268</td>\n",
              "      <td>-73.8666</td>\n",
              "    </tr>\n",
              "    <tr>\n",
              "      <th>dropoff_latitude</th>\n",
              "      <td>40.8781</td>\n",
              "      <td>40.8304</td>\n",
              "      <td>40.8655</td>\n",
              "      <td>40.8533</td>\n",
              "      <td>40.7711</td>\n",
              "    </tr>\n",
              "    <tr>\n",
              "      <th>store_and_fwd_flag</th>\n",
              "      <td>N</td>\n",
              "      <td>N</td>\n",
              "      <td>N</td>\n",
              "      <td>N</td>\n",
              "      <td>N</td>\n",
              "    </tr>\n",
              "    <tr>\n",
              "      <th>trip_duration</th>\n",
              "      <td>559</td>\n",
              "      <td>674</td>\n",
              "      <td>1079</td>\n",
              "      <td>360</td>\n",
              "      <td>983</td>\n",
              "    </tr>\n",
              "    <tr>\n",
              "      <th>geometry</th>\n",
              "      <td>POINT (-73.8318634033203 40.88214874267577)</td>\n",
              "      <td>POINT (-73.83158111572266 40.88471221923828)</td>\n",
              "      <td>POINT (-73.83104705810547 40.87054061889648)</td>\n",
              "      <td>POINT (-73.82709503173827 40.87891387939453)</td>\n",
              "      <td>POINT (-73.82640075683594 40.86192321777344)</td>\n",
              "    </tr>\n",
              "    <tr>\n",
              "      <th>drop_geometry</th>\n",
              "      <td>POINT (-73.86585235595702 40.87808990478516)</td>\n",
              "      <td>POINT (-73.85014343261719 40.8304328918457)</td>\n",
              "      <td>POINT (-73.82906341552734 40.86553955078125)</td>\n",
              "      <td>POINT (-73.82678985595702 40.85330963134766)</td>\n",
              "      <td>POINT (-73.86663055419923 40.77106094360352)</td>\n",
              "    </tr>\n",
              "    <tr>\n",
              "      <th>pickup_boro_name</th>\n",
              "      <td>Bronx</td>\n",
              "      <td>Bronx</td>\n",
              "      <td>Bronx</td>\n",
              "      <td>Bronx</td>\n",
              "      <td>Bronx</td>\n",
              "    </tr>\n",
              "    <tr>\n",
              "      <th>dropoff_boro_name</th>\n",
              "      <td>Bronx</td>\n",
              "      <td>Bronx</td>\n",
              "      <td>Bronx</td>\n",
              "      <td>Bronx</td>\n",
              "      <td>Queens</td>\n",
              "    </tr>\n",
              "  </tbody>\n",
              "</table>\n",
              "</div>"
            ],
            "text/plain": [
              "                                                         1452049  \\\n",
              "id                                                     id0434416   \n",
              "vendor_id                                                      2   \n",
              "pickup_datetime                              2016-02-28 19:39:47   \n",
              "dropoff_datetime                             2016-02-28 19:49:06   \n",
              "passenger_count                                                1   \n",
              "pickup_longitude                                        -73.8319   \n",
              "pickup_latitude                                          40.8821   \n",
              "dropoff_longitude                                       -73.8659   \n",
              "dropoff_latitude                                         40.8781   \n",
              "store_and_fwd_flag                                             N   \n",
              "trip_duration                                                559   \n",
              "geometry             POINT (-73.8318634033203 40.88214874267577)   \n",
              "drop_geometry       POINT (-73.86585235595702 40.87808990478516)   \n",
              "pickup_boro_name                                           Bronx   \n",
              "dropoff_boro_name                                          Bronx   \n",
              "\n",
              "                                                         1452050  \\\n",
              "id                                                     id0446131   \n",
              "vendor_id                                                      2   \n",
              "pickup_datetime                              2016-06-29 19:30:12   \n",
              "dropoff_datetime                             2016-06-29 19:41:26   \n",
              "passenger_count                                                3   \n",
              "pickup_longitude                                        -73.8316   \n",
              "pickup_latitude                                          40.8847   \n",
              "dropoff_longitude                                       -73.8501   \n",
              "dropoff_latitude                                         40.8304   \n",
              "store_and_fwd_flag                                             N   \n",
              "trip_duration                                                674   \n",
              "geometry            POINT (-73.83158111572266 40.88471221923828)   \n",
              "drop_geometry        POINT (-73.85014343261719 40.8304328918457)   \n",
              "pickup_boro_name                                           Bronx   \n",
              "dropoff_boro_name                                          Bronx   \n",
              "\n",
              "                                                         1452051  \\\n",
              "id                                                     id2807846   \n",
              "vendor_id                                                      2   \n",
              "pickup_datetime                              2016-01-18 17:15:37   \n",
              "dropoff_datetime                             2016-01-18 17:33:36   \n",
              "passenger_count                                                1   \n",
              "pickup_longitude                                         -73.831   \n",
              "pickup_latitude                                          40.8705   \n",
              "dropoff_longitude                                       -73.8291   \n",
              "dropoff_latitude                                         40.8655   \n",
              "store_and_fwd_flag                                             N   \n",
              "trip_duration                                               1079   \n",
              "geometry            POINT (-73.83104705810547 40.87054061889648)   \n",
              "drop_geometry       POINT (-73.82906341552734 40.86553955078125)   \n",
              "pickup_boro_name                                           Bronx   \n",
              "dropoff_boro_name                                          Bronx   \n",
              "\n",
              "                                                         1452052  \\\n",
              "id                                                     id0485626   \n",
              "vendor_id                                                      1   \n",
              "pickup_datetime                              2016-04-01 07:49:30   \n",
              "dropoff_datetime                             2016-04-01 07:55:30   \n",
              "passenger_count                                                1   \n",
              "pickup_longitude                                        -73.8271   \n",
              "pickup_latitude                                          40.8789   \n",
              "dropoff_longitude                                       -73.8268   \n",
              "dropoff_latitude                                         40.8533   \n",
              "store_and_fwd_flag                                             N   \n",
              "trip_duration                                                360   \n",
              "geometry            POINT (-73.82709503173827 40.87891387939453)   \n",
              "drop_geometry       POINT (-73.82678985595702 40.85330963134766)   \n",
              "pickup_boro_name                                           Bronx   \n",
              "dropoff_boro_name                                          Bronx   \n",
              "\n",
              "                                                         1452053  \n",
              "id                                                     id2435486  \n",
              "vendor_id                                                      2  \n",
              "pickup_datetime                              2016-06-04 03:43:55  \n",
              "dropoff_datetime                             2016-06-04 04:00:18  \n",
              "passenger_count                                                1  \n",
              "pickup_longitude                                        -73.8264  \n",
              "pickup_latitude                                          40.8619  \n",
              "dropoff_longitude                                       -73.8666  \n",
              "dropoff_latitude                                         40.7711  \n",
              "store_and_fwd_flag                                             N  \n",
              "trip_duration                                                983  \n",
              "geometry            POINT (-73.82640075683594 40.86192321777344)  \n",
              "drop_geometry       POINT (-73.86663055419923 40.77106094360352)  \n",
              "pickup_boro_name                                           Bronx  \n",
              "dropoff_boro_name                                         Queens  "
            ]
          },
          "metadata": {
            "tags": []
          },
          "execution_count": 23
        }
      ]
    },
    {
      "metadata": {
        "id": "jx2YS8Jz9idh",
        "colab_type": "code",
        "colab": {}
      },
      "cell_type": "code",
      "source": [
        "def haversine(lat1, lon1, lat2, lon2):\n",
        "    R = 3958.76 # Earth radius in miles\n",
        "    \n",
        "    dLat, dLon, lat1, lat2 = np.radians(lat2 - lat1), np.radians(lon2 - lon1), \\\n",
        "    np.radians(lat1), np.radians(lat2)\n",
        "    a =  np.sin(dLat/2) ** 2 + np.cos(lat1) * np.cos(lat2) * np.sin(dLon/2) ** 2\n",
        "    c = 2*np.arcsin(np.sqrt(a))\n",
        "    \n",
        "    return R * c"
      ],
      "execution_count": 0,
      "outputs": []
    },
    {
      "metadata": {
        "id": "n5Y9w7ft-9lG",
        "colab_type": "code",
        "colab": {}
      },
      "cell_type": "code",
      "source": [
        "theta1 = np.radians(-28.904)\n",
        "theta2 = np.radians(28.904)\n",
        "R1 = np.array([[np.cos(theta1), np.sin(theta1)], [-np.sin(theta1), np.cos(theta1)]])\n",
        "R2 = np.array([[np.cos(theta2), np.sin(theta2)], [-np.sin(theta2), np.cos(theta2)]])\n",
        "\n",
        "def manhattan_dist(lat1, lon1, lat2, lon2):\n",
        "    p = np.stack([lat1, lon1], axis = 1)\n",
        "    d = np.stack([lat2, lon2], axis = 1)\n",
        "    pT = R1 @ p.T  \n",
        "    dT = R1 @ d.T  \n",
        "\n",
        "    vT = np.stack((pT[0,:], dT[1,:]))\n",
        "    v = R2 @ vT\n",
        "    return (haversine(p.T[0], p.T[1], v[0], v[1]) + haversine(v[0], v[1], d.T[0], d.T[1]))"
      ],
      "execution_count": 0,
      "outputs": []
    },
    {
      "metadata": {
        "id": "CywfgHMeBmGy",
        "colab_type": "code",
        "colab": {}
      },
      "cell_type": "code",
      "source": [
        "raw_df = merged_df.query(\"pickup_latitude !=  dropoff_latitude &  pickup_longitude != dropoff_longitude & trip_duration > 250\")\n",
        "raw_df.reset_index(drop=True, inplace=True)"
      ],
      "execution_count": 0,
      "outputs": []
    },
    {
      "metadata": {
        "id": "HYLj3GuB22ps",
        "colab_type": "code",
        "colab": {}
      },
      "cell_type": "code",
      "source": [
        "raw_df.iloc[:][\"haversine_dist\"] = haversine(raw_df[\"pickup_latitude\"], raw_df[\"pickup_longitude\"], raw_df[\"dropoff_latitude\"], raw_df[\"dropoff_longitude\"])\n",
        "raw_df.iloc[:][\"manhattan_dist\"] = manhattan_dist(raw_df[\"pickup_latitude\"], raw_df[\"pickup_longitude\"], raw_df[\"dropoff_latitude\"], raw_df[\"dropoff_longitude\"])"
      ],
      "execution_count": 0,
      "outputs": []
    },
    {
      "metadata": {
        "id": "NT9XoZoxriji",
        "colab_type": "code",
        "outputId": "f662c6f6-1b16-4493-f73e-21310f16fd8d",
        "colab": {
          "base_uri": "https://localhost:8080/",
          "height": 639
        }
      },
      "cell_type": "code",
      "source": [
        "display_all(raw_df.head().T)"
      ],
      "execution_count": 29,
      "outputs": [
        {
          "output_type": "execute_result",
          "data": {
            "text/html": [
              "<div>\n",
              "<style scoped>\n",
              "    .dataframe tbody tr th:only-of-type {\n",
              "        vertical-align: middle;\n",
              "    }\n",
              "\n",
              "    .dataframe tbody tr th {\n",
              "        vertical-align: top;\n",
              "    }\n",
              "\n",
              "    .dataframe thead th {\n",
              "        text-align: right;\n",
              "    }\n",
              "</style>\n",
              "<table border=\"1\" class=\"dataframe\">\n",
              "  <thead>\n",
              "    <tr style=\"text-align: right;\">\n",
              "      <th></th>\n",
              "      <th>0</th>\n",
              "      <th>1</th>\n",
              "      <th>2</th>\n",
              "      <th>3</th>\n",
              "      <th>4</th>\n",
              "    </tr>\n",
              "  </thead>\n",
              "  <tbody>\n",
              "    <tr>\n",
              "      <th>id</th>\n",
              "      <td>id1311655</td>\n",
              "      <td>id3451204</td>\n",
              "      <td>id1703201</td>\n",
              "      <td>id2941347</td>\n",
              "      <td>id2103467</td>\n",
              "    </tr>\n",
              "    <tr>\n",
              "      <th>vendor_id</th>\n",
              "      <td>2</td>\n",
              "      <td>2</td>\n",
              "      <td>2</td>\n",
              "      <td>1</td>\n",
              "      <td>2</td>\n",
              "    </tr>\n",
              "    <tr>\n",
              "      <th>pickup_datetime</th>\n",
              "      <td>2016-01-03 04:26:13</td>\n",
              "      <td>2016-04-08 20:51:48</td>\n",
              "      <td>2016-02-14 10:43:05</td>\n",
              "      <td>2016-06-08 19:36:39</td>\n",
              "      <td>2016-04-28 15:14:01</td>\n",
              "    </tr>\n",
              "    <tr>\n",
              "      <th>dropoff_datetime</th>\n",
              "      <td>2016-01-03 04:38:54</td>\n",
              "      <td>2016-04-08 21:15:54</td>\n",
              "      <td>2016-02-14 11:10:15</td>\n",
              "      <td>2016-06-08 20:13:07</td>\n",
              "      <td>2016-04-28 15:27:31</td>\n",
              "    </tr>\n",
              "    <tr>\n",
              "      <th>passenger_count</th>\n",
              "      <td>3</td>\n",
              "      <td>1</td>\n",
              "      <td>5</td>\n",
              "      <td>2</td>\n",
              "      <td>1</td>\n",
              "    </tr>\n",
              "    <tr>\n",
              "      <th>pickup_longitude</th>\n",
              "      <td>-74.074</td>\n",
              "      <td>-74.0773</td>\n",
              "      <td>-74.0907</td>\n",
              "      <td>-73.7533</td>\n",
              "      <td>-73.8313</td>\n",
              "    </tr>\n",
              "    <tr>\n",
              "      <th>pickup_latitude</th>\n",
              "      <td>40.6379</td>\n",
              "      <td>40.6061</td>\n",
              "      <td>40.6282</td>\n",
              "      <td>40.5965</td>\n",
              "      <td>40.5801</td>\n",
              "    </tr>\n",
              "    <tr>\n",
              "      <th>dropoff_longitude</th>\n",
              "      <td>-74.1208</td>\n",
              "      <td>-73.9583</td>\n",
              "      <td>-73.7825</td>\n",
              "      <td>-73.9473</td>\n",
              "      <td>-73.8194</td>\n",
              "    </tr>\n",
              "    <tr>\n",
              "      <th>dropoff_latitude</th>\n",
              "      <td>40.6049</td>\n",
              "      <td>40.7172</td>\n",
              "      <td>40.6488</td>\n",
              "      <td>40.6324</td>\n",
              "      <td>40.6068</td>\n",
              "    </tr>\n",
              "    <tr>\n",
              "      <th>store_and_fwd_flag</th>\n",
              "      <td>N</td>\n",
              "      <td>N</td>\n",
              "      <td>N</td>\n",
              "      <td>N</td>\n",
              "      <td>N</td>\n",
              "    </tr>\n",
              "    <tr>\n",
              "      <th>trip_duration</th>\n",
              "      <td>761</td>\n",
              "      <td>1446</td>\n",
              "      <td>1630</td>\n",
              "      <td>2188</td>\n",
              "      <td>810</td>\n",
              "    </tr>\n",
              "    <tr>\n",
              "      <th>geometry</th>\n",
              "      <td>POINT (-74.07395935058595 40.63790130615234)</td>\n",
              "      <td>POINT (-74.07729339599609 40.60614013671875)</td>\n",
              "      <td>POINT (-74.09073638916014 40.62818145751953)</td>\n",
              "      <td>POINT (-73.75328826904298 40.59653472900391)</td>\n",
              "      <td>POINT (-73.83132934570312 40.58007049560547)</td>\n",
              "    </tr>\n",
              "    <tr>\n",
              "      <th>drop_geometry</th>\n",
              "      <td>POINT (-74.12079620361328 40.60485076904297)</td>\n",
              "      <td>POINT (-73.95829772949219 40.71717834472656)</td>\n",
              "      <td>POINT (-73.78253173828125 40.64876556396485)</td>\n",
              "      <td>POINT (-73.94730377197266 40.63242340087891)</td>\n",
              "      <td>POINT (-73.81935119628906 40.60683822631836)</td>\n",
              "    </tr>\n",
              "    <tr>\n",
              "      <th>pickup_boro_name</th>\n",
              "      <td>Staten Island</td>\n",
              "      <td>Staten Island</td>\n",
              "      <td>Staten Island</td>\n",
              "      <td>Queens</td>\n",
              "      <td>Queens</td>\n",
              "    </tr>\n",
              "    <tr>\n",
              "      <th>dropoff_boro_name</th>\n",
              "      <td>Staten Island</td>\n",
              "      <td>Brooklyn</td>\n",
              "      <td>Queens</td>\n",
              "      <td>Brooklyn</td>\n",
              "      <td>Queens</td>\n",
              "    </tr>\n",
              "    <tr>\n",
              "      <th>haversine_dist</th>\n",
              "      <td>3.35383</td>\n",
              "      <td>9.88725</td>\n",
              "      <td>16.2218</td>\n",
              "      <td>10.4737</td>\n",
              "      <td>1.95333</td>\n",
              "    </tr>\n",
              "    <tr>\n",
              "      <th>manhattan_dist</th>\n",
              "      <td>3.64751</td>\n",
              "      <td>11.5616</td>\n",
              "      <td>24.4575</td>\n",
              "      <td>16.8745</td>\n",
              "      <td>2.48749</td>\n",
              "    </tr>\n",
              "  </tbody>\n",
              "</table>\n",
              "</div>"
            ],
            "text/plain": [
              "                                                               0  \\\n",
              "id                                                     id1311655   \n",
              "vendor_id                                                      2   \n",
              "pickup_datetime                              2016-01-03 04:26:13   \n",
              "dropoff_datetime                             2016-01-03 04:38:54   \n",
              "passenger_count                                                3   \n",
              "pickup_longitude                                         -74.074   \n",
              "pickup_latitude                                          40.6379   \n",
              "dropoff_longitude                                       -74.1208   \n",
              "dropoff_latitude                                         40.6049   \n",
              "store_and_fwd_flag                                             N   \n",
              "trip_duration                                                761   \n",
              "geometry            POINT (-74.07395935058595 40.63790130615234)   \n",
              "drop_geometry       POINT (-74.12079620361328 40.60485076904297)   \n",
              "pickup_boro_name                                   Staten Island   \n",
              "dropoff_boro_name                                  Staten Island   \n",
              "haversine_dist                                           3.35383   \n",
              "manhattan_dist                                           3.64751   \n",
              "\n",
              "                                                               1  \\\n",
              "id                                                     id3451204   \n",
              "vendor_id                                                      2   \n",
              "pickup_datetime                              2016-04-08 20:51:48   \n",
              "dropoff_datetime                             2016-04-08 21:15:54   \n",
              "passenger_count                                                1   \n",
              "pickup_longitude                                        -74.0773   \n",
              "pickup_latitude                                          40.6061   \n",
              "dropoff_longitude                                       -73.9583   \n",
              "dropoff_latitude                                         40.7172   \n",
              "store_and_fwd_flag                                             N   \n",
              "trip_duration                                               1446   \n",
              "geometry            POINT (-74.07729339599609 40.60614013671875)   \n",
              "drop_geometry       POINT (-73.95829772949219 40.71717834472656)   \n",
              "pickup_boro_name                                   Staten Island   \n",
              "dropoff_boro_name                                       Brooklyn   \n",
              "haversine_dist                                           9.88725   \n",
              "manhattan_dist                                           11.5616   \n",
              "\n",
              "                                                               2  \\\n",
              "id                                                     id1703201   \n",
              "vendor_id                                                      2   \n",
              "pickup_datetime                              2016-02-14 10:43:05   \n",
              "dropoff_datetime                             2016-02-14 11:10:15   \n",
              "passenger_count                                                5   \n",
              "pickup_longitude                                        -74.0907   \n",
              "pickup_latitude                                          40.6282   \n",
              "dropoff_longitude                                       -73.7825   \n",
              "dropoff_latitude                                         40.6488   \n",
              "store_and_fwd_flag                                             N   \n",
              "trip_duration                                               1630   \n",
              "geometry            POINT (-74.09073638916014 40.62818145751953)   \n",
              "drop_geometry       POINT (-73.78253173828125 40.64876556396485)   \n",
              "pickup_boro_name                                   Staten Island   \n",
              "dropoff_boro_name                                         Queens   \n",
              "haversine_dist                                           16.2218   \n",
              "manhattan_dist                                           24.4575   \n",
              "\n",
              "                                                               3  \\\n",
              "id                                                     id2941347   \n",
              "vendor_id                                                      1   \n",
              "pickup_datetime                              2016-06-08 19:36:39   \n",
              "dropoff_datetime                             2016-06-08 20:13:07   \n",
              "passenger_count                                                2   \n",
              "pickup_longitude                                        -73.7533   \n",
              "pickup_latitude                                          40.5965   \n",
              "dropoff_longitude                                       -73.9473   \n",
              "dropoff_latitude                                         40.6324   \n",
              "store_and_fwd_flag                                             N   \n",
              "trip_duration                                               2188   \n",
              "geometry            POINT (-73.75328826904298 40.59653472900391)   \n",
              "drop_geometry       POINT (-73.94730377197266 40.63242340087891)   \n",
              "pickup_boro_name                                          Queens   \n",
              "dropoff_boro_name                                       Brooklyn   \n",
              "haversine_dist                                           10.4737   \n",
              "manhattan_dist                                           16.8745   \n",
              "\n",
              "                                                               4  \n",
              "id                                                     id2103467  \n",
              "vendor_id                                                      2  \n",
              "pickup_datetime                              2016-04-28 15:14:01  \n",
              "dropoff_datetime                             2016-04-28 15:27:31  \n",
              "passenger_count                                                1  \n",
              "pickup_longitude                                        -73.8313  \n",
              "pickup_latitude                                          40.5801  \n",
              "dropoff_longitude                                       -73.8194  \n",
              "dropoff_latitude                                         40.6068  \n",
              "store_and_fwd_flag                                             N  \n",
              "trip_duration                                                810  \n",
              "geometry            POINT (-73.83132934570312 40.58007049560547)  \n",
              "drop_geometry       POINT (-73.81935119628906 40.60683822631836)  \n",
              "pickup_boro_name                                          Queens  \n",
              "dropoff_boro_name                                         Queens  \n",
              "haversine_dist                                           1.95333  \n",
              "manhattan_dist                                           2.48749  "
            ]
          },
          "metadata": {
            "tags": []
          },
          "execution_count": 29
        }
      ]
    },
    {
      "metadata": {
        "id": "gqdybDTS8ZB9",
        "colab_type": "code",
        "colab": {}
      },
      "cell_type": "code",
      "source": [
        "!pip install \"fastai==0.7.0\"\n",
        "!apt-get -qq install -y libsm6 libxext6 && pip install -q -U opencv-python\n",
        "import cv2\n",
        "from os import path\n",
        "from wheel.pep425tags import get_abbr_impl, get_impl_ver, get_abi_tag\n",
        "platform = '{}{}-{}'.format(get_abbr_impl(), get_impl_ver(), get_abi_tag())\n",
        "\n",
        "accelerator = 'cu80' if path.exists('/opt/bin/nvidia-smi') else 'cpu'\n",
        "\n",
        "!pip install -q http://download.pytorch.org/whl/{accelerator}/torch-0.3.0.post4-{platform}-linux_x86_64.whl torchvision\n",
        "\n",
        "!pip install Pillow>=4.1.1\n",
        "!pip install image"
      ],
      "execution_count": 0,
      "outputs": []
    },
    {
      "metadata": {
        "id": "IjoHg6858abc",
        "colab_type": "code",
        "colab": {}
      },
      "cell_type": "code",
      "source": [
        "from fastai.imports import *\n",
        "from fastai.structured import *"
      ],
      "execution_count": 0,
      "outputs": []
    },
    {
      "metadata": {
        "id": "bvdOZK8G9Qlw",
        "colab_type": "code",
        "colab": {}
      },
      "cell_type": "code",
      "source": [
        "from pandas_summary import DataFrameSummary\n",
        "from sklearn.ensemble import RandomForestRegressor, RandomForestClassifier\n",
        "from IPython.display import display\n",
        "from sklearn import metrics"
      ],
      "execution_count": 0,
      "outputs": []
    },
    {
      "metadata": {
        "id": "AqIY_CtD9MLy",
        "colab_type": "code",
        "colab": {}
      },
      "cell_type": "code",
      "source": [
        "raw_df.trip_duration.iloc[:] = np.log(raw_df.trip_duration)"
      ],
      "execution_count": 0,
      "outputs": []
    },
    {
      "metadata": {
        "id": "cZ5Xz0jD9SDl",
        "colab_type": "code",
        "colab": {}
      },
      "cell_type": "code",
      "source": [
        "add_datepart(raw_df, 'pickup_datetime', time=True)\n",
        "add_datepart(raw_df, 'dropoff_datetime', time=True)"
      ],
      "execution_count": 0,
      "outputs": []
    },
    {
      "metadata": {
        "id": "zpCXygWoQEYw",
        "colab_type": "code",
        "colab": {
          "base_uri": "https://localhost:8080/",
          "height": 1559
        },
        "outputId": "7211e912-567d-450e-f534-432ee6acd12f"
      },
      "cell_type": "code",
      "source": [
        "raw_df.tail().T"
      ],
      "execution_count": 37,
      "outputs": [
        {
          "output_type": "execute_result",
          "data": {
            "text/html": [
              "<div>\n",
              "<style scoped>\n",
              "    .dataframe tbody tr th:only-of-type {\n",
              "        vertical-align: middle;\n",
              "    }\n",
              "\n",
              "    .dataframe tbody tr th {\n",
              "        vertical-align: top;\n",
              "    }\n",
              "\n",
              "    .dataframe thead th {\n",
              "        text-align: right;\n",
              "    }\n",
              "</style>\n",
              "<table border=\"1\" class=\"dataframe\">\n",
              "  <thead>\n",
              "    <tr style=\"text-align: right;\">\n",
              "      <th></th>\n",
              "      <th>1296518</th>\n",
              "      <th>1296519</th>\n",
              "      <th>1296520</th>\n",
              "      <th>1296521</th>\n",
              "      <th>1296522</th>\n",
              "    </tr>\n",
              "  </thead>\n",
              "  <tbody>\n",
              "    <tr>\n",
              "      <th>id</th>\n",
              "      <td>id0434416</td>\n",
              "      <td>id0446131</td>\n",
              "      <td>id2807846</td>\n",
              "      <td>id0485626</td>\n",
              "      <td>id2435486</td>\n",
              "    </tr>\n",
              "    <tr>\n",
              "      <th>vendor_id</th>\n",
              "      <td>2</td>\n",
              "      <td>2</td>\n",
              "      <td>2</td>\n",
              "      <td>1</td>\n",
              "      <td>2</td>\n",
              "    </tr>\n",
              "    <tr>\n",
              "      <th>passenger_count</th>\n",
              "      <td>1</td>\n",
              "      <td>3</td>\n",
              "      <td>1</td>\n",
              "      <td>1</td>\n",
              "      <td>1</td>\n",
              "    </tr>\n",
              "    <tr>\n",
              "      <th>pickup_longitude</th>\n",
              "      <td>-73.8319</td>\n",
              "      <td>-73.8316</td>\n",
              "      <td>-73.831</td>\n",
              "      <td>-73.8271</td>\n",
              "      <td>-73.8264</td>\n",
              "    </tr>\n",
              "    <tr>\n",
              "      <th>pickup_latitude</th>\n",
              "      <td>40.8821</td>\n",
              "      <td>40.8847</td>\n",
              "      <td>40.8705</td>\n",
              "      <td>40.8789</td>\n",
              "      <td>40.8619</td>\n",
              "    </tr>\n",
              "    <tr>\n",
              "      <th>dropoff_longitude</th>\n",
              "      <td>-73.8659</td>\n",
              "      <td>-73.8501</td>\n",
              "      <td>-73.8291</td>\n",
              "      <td>-73.8268</td>\n",
              "      <td>-73.8666</td>\n",
              "    </tr>\n",
              "    <tr>\n",
              "      <th>dropoff_latitude</th>\n",
              "      <td>40.8781</td>\n",
              "      <td>40.8304</td>\n",
              "      <td>40.8655</td>\n",
              "      <td>40.8533</td>\n",
              "      <td>40.7711</td>\n",
              "    </tr>\n",
              "    <tr>\n",
              "      <th>store_and_fwd_flag</th>\n",
              "      <td>N</td>\n",
              "      <td>N</td>\n",
              "      <td>N</td>\n",
              "      <td>N</td>\n",
              "      <td>N</td>\n",
              "    </tr>\n",
              "    <tr>\n",
              "      <th>trip_duration</th>\n",
              "      <td>6.32615</td>\n",
              "      <td>6.51323</td>\n",
              "      <td>6.98379</td>\n",
              "      <td>5.8861</td>\n",
              "      <td>6.89061</td>\n",
              "    </tr>\n",
              "    <tr>\n",
              "      <th>geometry</th>\n",
              "      <td>POINT (-73.8318634033203 40.88214874267577)</td>\n",
              "      <td>POINT (-73.83158111572266 40.88471221923828)</td>\n",
              "      <td>POINT (-73.83104705810547 40.87054061889648)</td>\n",
              "      <td>POINT (-73.82709503173827 40.87891387939453)</td>\n",
              "      <td>POINT (-73.82640075683594 40.86192321777344)</td>\n",
              "    </tr>\n",
              "    <tr>\n",
              "      <th>drop_geometry</th>\n",
              "      <td>POINT (-73.86585235595702 40.87808990478516)</td>\n",
              "      <td>POINT (-73.85014343261719 40.8304328918457)</td>\n",
              "      <td>POINT (-73.82906341552734 40.86553955078125)</td>\n",
              "      <td>POINT (-73.82678985595702 40.85330963134766)</td>\n",
              "      <td>POINT (-73.86663055419923 40.77106094360352)</td>\n",
              "    </tr>\n",
              "    <tr>\n",
              "      <th>pickup_boro_name</th>\n",
              "      <td>Bronx</td>\n",
              "      <td>Bronx</td>\n",
              "      <td>Bronx</td>\n",
              "      <td>Bronx</td>\n",
              "      <td>Bronx</td>\n",
              "    </tr>\n",
              "    <tr>\n",
              "      <th>dropoff_boro_name</th>\n",
              "      <td>Bronx</td>\n",
              "      <td>Bronx</td>\n",
              "      <td>Bronx</td>\n",
              "      <td>Bronx</td>\n",
              "      <td>Queens</td>\n",
              "    </tr>\n",
              "    <tr>\n",
              "      <th>haversine_dist</th>\n",
              "      <td>1.7976</td>\n",
              "      <td>3.87376</td>\n",
              "      <td>0.36075</td>\n",
              "      <td>1.76916</td>\n",
              "      <td>6.62105</td>\n",
              "    </tr>\n",
              "    <tr>\n",
              "      <th>manhattan_dist</th>\n",
              "      <td>2.64008</td>\n",
              "      <td>4.9327</td>\n",
              "      <td>0.388366</td>\n",
              "      <td>2.16461</td>\n",
              "      <td>8.42291</td>\n",
              "    </tr>\n",
              "    <tr>\n",
              "      <th>pickup_datetimeYear</th>\n",
              "      <td>2016</td>\n",
              "      <td>2016</td>\n",
              "      <td>2016</td>\n",
              "      <td>2016</td>\n",
              "      <td>2016</td>\n",
              "    </tr>\n",
              "    <tr>\n",
              "      <th>pickup_datetimeMonth</th>\n",
              "      <td>2</td>\n",
              "      <td>6</td>\n",
              "      <td>1</td>\n",
              "      <td>4</td>\n",
              "      <td>6</td>\n",
              "    </tr>\n",
              "    <tr>\n",
              "      <th>pickup_datetimeWeek</th>\n",
              "      <td>8</td>\n",
              "      <td>26</td>\n",
              "      <td>3</td>\n",
              "      <td>13</td>\n",
              "      <td>22</td>\n",
              "    </tr>\n",
              "    <tr>\n",
              "      <th>pickup_datetimeDay</th>\n",
              "      <td>28</td>\n",
              "      <td>29</td>\n",
              "      <td>18</td>\n",
              "      <td>1</td>\n",
              "      <td>4</td>\n",
              "    </tr>\n",
              "    <tr>\n",
              "      <th>pickup_datetimeDayofweek</th>\n",
              "      <td>6</td>\n",
              "      <td>2</td>\n",
              "      <td>0</td>\n",
              "      <td>4</td>\n",
              "      <td>5</td>\n",
              "    </tr>\n",
              "    <tr>\n",
              "      <th>pickup_datetimeDayofyear</th>\n",
              "      <td>59</td>\n",
              "      <td>181</td>\n",
              "      <td>18</td>\n",
              "      <td>92</td>\n",
              "      <td>156</td>\n",
              "    </tr>\n",
              "    <tr>\n",
              "      <th>pickup_datetimeIs_month_end</th>\n",
              "      <td>False</td>\n",
              "      <td>False</td>\n",
              "      <td>False</td>\n",
              "      <td>False</td>\n",
              "      <td>False</td>\n",
              "    </tr>\n",
              "    <tr>\n",
              "      <th>pickup_datetimeIs_month_start</th>\n",
              "      <td>False</td>\n",
              "      <td>False</td>\n",
              "      <td>False</td>\n",
              "      <td>True</td>\n",
              "      <td>False</td>\n",
              "    </tr>\n",
              "    <tr>\n",
              "      <th>pickup_datetimeIs_quarter_end</th>\n",
              "      <td>False</td>\n",
              "      <td>False</td>\n",
              "      <td>False</td>\n",
              "      <td>False</td>\n",
              "      <td>False</td>\n",
              "    </tr>\n",
              "    <tr>\n",
              "      <th>pickup_datetimeIs_quarter_start</th>\n",
              "      <td>False</td>\n",
              "      <td>False</td>\n",
              "      <td>False</td>\n",
              "      <td>True</td>\n",
              "      <td>False</td>\n",
              "    </tr>\n",
              "    <tr>\n",
              "      <th>pickup_datetimeIs_year_end</th>\n",
              "      <td>False</td>\n",
              "      <td>False</td>\n",
              "      <td>False</td>\n",
              "      <td>False</td>\n",
              "      <td>False</td>\n",
              "    </tr>\n",
              "    <tr>\n",
              "      <th>pickup_datetimeIs_year_start</th>\n",
              "      <td>False</td>\n",
              "      <td>False</td>\n",
              "      <td>False</td>\n",
              "      <td>False</td>\n",
              "      <td>False</td>\n",
              "    </tr>\n",
              "    <tr>\n",
              "      <th>pickup_datetimeHour</th>\n",
              "      <td>19</td>\n",
              "      <td>19</td>\n",
              "      <td>17</td>\n",
              "      <td>7</td>\n",
              "      <td>3</td>\n",
              "    </tr>\n",
              "    <tr>\n",
              "      <th>pickup_datetimeMinute</th>\n",
              "      <td>39</td>\n",
              "      <td>30</td>\n",
              "      <td>15</td>\n",
              "      <td>49</td>\n",
              "      <td>43</td>\n",
              "    </tr>\n",
              "    <tr>\n",
              "      <th>pickup_datetimeSecond</th>\n",
              "      <td>47</td>\n",
              "      <td>12</td>\n",
              "      <td>37</td>\n",
              "      <td>30</td>\n",
              "      <td>55</td>\n",
              "    </tr>\n",
              "    <tr>\n",
              "      <th>pickup_datetimeElapsed</th>\n",
              "      <td>1456688387</td>\n",
              "      <td>1467228612</td>\n",
              "      <td>1453137337</td>\n",
              "      <td>1459496970</td>\n",
              "      <td>1465011835</td>\n",
              "    </tr>\n",
              "    <tr>\n",
              "      <th>dropoff_datetimeYear</th>\n",
              "      <td>2016</td>\n",
              "      <td>2016</td>\n",
              "      <td>2016</td>\n",
              "      <td>2016</td>\n",
              "      <td>2016</td>\n",
              "    </tr>\n",
              "    <tr>\n",
              "      <th>dropoff_datetimeMonth</th>\n",
              "      <td>2</td>\n",
              "      <td>6</td>\n",
              "      <td>1</td>\n",
              "      <td>4</td>\n",
              "      <td>6</td>\n",
              "    </tr>\n",
              "    <tr>\n",
              "      <th>dropoff_datetimeWeek</th>\n",
              "      <td>8</td>\n",
              "      <td>26</td>\n",
              "      <td>3</td>\n",
              "      <td>13</td>\n",
              "      <td>22</td>\n",
              "    </tr>\n",
              "    <tr>\n",
              "      <th>dropoff_datetimeDay</th>\n",
              "      <td>28</td>\n",
              "      <td>29</td>\n",
              "      <td>18</td>\n",
              "      <td>1</td>\n",
              "      <td>4</td>\n",
              "    </tr>\n",
              "    <tr>\n",
              "      <th>dropoff_datetimeDayofweek</th>\n",
              "      <td>6</td>\n",
              "      <td>2</td>\n",
              "      <td>0</td>\n",
              "      <td>4</td>\n",
              "      <td>5</td>\n",
              "    </tr>\n",
              "    <tr>\n",
              "      <th>dropoff_datetimeDayofyear</th>\n",
              "      <td>59</td>\n",
              "      <td>181</td>\n",
              "      <td>18</td>\n",
              "      <td>92</td>\n",
              "      <td>156</td>\n",
              "    </tr>\n",
              "    <tr>\n",
              "      <th>dropoff_datetimeIs_month_end</th>\n",
              "      <td>False</td>\n",
              "      <td>False</td>\n",
              "      <td>False</td>\n",
              "      <td>False</td>\n",
              "      <td>False</td>\n",
              "    </tr>\n",
              "    <tr>\n",
              "      <th>dropoff_datetimeIs_month_start</th>\n",
              "      <td>False</td>\n",
              "      <td>False</td>\n",
              "      <td>False</td>\n",
              "      <td>True</td>\n",
              "      <td>False</td>\n",
              "    </tr>\n",
              "    <tr>\n",
              "      <th>dropoff_datetimeIs_quarter_end</th>\n",
              "      <td>False</td>\n",
              "      <td>False</td>\n",
              "      <td>False</td>\n",
              "      <td>False</td>\n",
              "      <td>False</td>\n",
              "    </tr>\n",
              "    <tr>\n",
              "      <th>dropoff_datetimeIs_quarter_start</th>\n",
              "      <td>False</td>\n",
              "      <td>False</td>\n",
              "      <td>False</td>\n",
              "      <td>True</td>\n",
              "      <td>False</td>\n",
              "    </tr>\n",
              "    <tr>\n",
              "      <th>dropoff_datetimeIs_year_end</th>\n",
              "      <td>False</td>\n",
              "      <td>False</td>\n",
              "      <td>False</td>\n",
              "      <td>False</td>\n",
              "      <td>False</td>\n",
              "    </tr>\n",
              "    <tr>\n",
              "      <th>dropoff_datetimeIs_year_start</th>\n",
              "      <td>False</td>\n",
              "      <td>False</td>\n",
              "      <td>False</td>\n",
              "      <td>False</td>\n",
              "      <td>False</td>\n",
              "    </tr>\n",
              "    <tr>\n",
              "      <th>dropoff_datetimeHour</th>\n",
              "      <td>19</td>\n",
              "      <td>19</td>\n",
              "      <td>17</td>\n",
              "      <td>7</td>\n",
              "      <td>4</td>\n",
              "    </tr>\n",
              "    <tr>\n",
              "      <th>dropoff_datetimeMinute</th>\n",
              "      <td>49</td>\n",
              "      <td>41</td>\n",
              "      <td>33</td>\n",
              "      <td>55</td>\n",
              "      <td>0</td>\n",
              "    </tr>\n",
              "    <tr>\n",
              "      <th>dropoff_datetimeSecond</th>\n",
              "      <td>6</td>\n",
              "      <td>26</td>\n",
              "      <td>36</td>\n",
              "      <td>30</td>\n",
              "      <td>18</td>\n",
              "    </tr>\n",
              "    <tr>\n",
              "      <th>dropoff_datetimeElapsed</th>\n",
              "      <td>1456688946</td>\n",
              "      <td>1467229286</td>\n",
              "      <td>1453138416</td>\n",
              "      <td>1459497330</td>\n",
              "      <td>1465012818</td>\n",
              "    </tr>\n",
              "  </tbody>\n",
              "</table>\n",
              "</div>"
            ],
            "text/plain": [
              "                                                                       1296518  \\\n",
              "id                                                                   id0434416   \n",
              "vendor_id                                                                    2   \n",
              "passenger_count                                                              1   \n",
              "pickup_longitude                                                      -73.8319   \n",
              "pickup_latitude                                                        40.8821   \n",
              "dropoff_longitude                                                     -73.8659   \n",
              "dropoff_latitude                                                       40.8781   \n",
              "store_and_fwd_flag                                                           N   \n",
              "trip_duration                                                          6.32615   \n",
              "geometry                           POINT (-73.8318634033203 40.88214874267577)   \n",
              "drop_geometry                     POINT (-73.86585235595702 40.87808990478516)   \n",
              "pickup_boro_name                                                         Bronx   \n",
              "dropoff_boro_name                                                        Bronx   \n",
              "haversine_dist                                                          1.7976   \n",
              "manhattan_dist                                                         2.64008   \n",
              "pickup_datetimeYear                                                       2016   \n",
              "pickup_datetimeMonth                                                         2   \n",
              "pickup_datetimeWeek                                                          8   \n",
              "pickup_datetimeDay                                                          28   \n",
              "pickup_datetimeDayofweek                                                     6   \n",
              "pickup_datetimeDayofyear                                                    59   \n",
              "pickup_datetimeIs_month_end                                              False   \n",
              "pickup_datetimeIs_month_start                                            False   \n",
              "pickup_datetimeIs_quarter_end                                            False   \n",
              "pickup_datetimeIs_quarter_start                                          False   \n",
              "pickup_datetimeIs_year_end                                               False   \n",
              "pickup_datetimeIs_year_start                                             False   \n",
              "pickup_datetimeHour                                                         19   \n",
              "pickup_datetimeMinute                                                       39   \n",
              "pickup_datetimeSecond                                                       47   \n",
              "pickup_datetimeElapsed                                              1456688387   \n",
              "dropoff_datetimeYear                                                      2016   \n",
              "dropoff_datetimeMonth                                                        2   \n",
              "dropoff_datetimeWeek                                                         8   \n",
              "dropoff_datetimeDay                                                         28   \n",
              "dropoff_datetimeDayofweek                                                    6   \n",
              "dropoff_datetimeDayofyear                                                   59   \n",
              "dropoff_datetimeIs_month_end                                             False   \n",
              "dropoff_datetimeIs_month_start                                           False   \n",
              "dropoff_datetimeIs_quarter_end                                           False   \n",
              "dropoff_datetimeIs_quarter_start                                         False   \n",
              "dropoff_datetimeIs_year_end                                              False   \n",
              "dropoff_datetimeIs_year_start                                            False   \n",
              "dropoff_datetimeHour                                                        19   \n",
              "dropoff_datetimeMinute                                                      49   \n",
              "dropoff_datetimeSecond                                                       6   \n",
              "dropoff_datetimeElapsed                                             1456688946   \n",
              "\n",
              "                                                                       1296519  \\\n",
              "id                                                                   id0446131   \n",
              "vendor_id                                                                    2   \n",
              "passenger_count                                                              3   \n",
              "pickup_longitude                                                      -73.8316   \n",
              "pickup_latitude                                                        40.8847   \n",
              "dropoff_longitude                                                     -73.8501   \n",
              "dropoff_latitude                                                       40.8304   \n",
              "store_and_fwd_flag                                                           N   \n",
              "trip_duration                                                          6.51323   \n",
              "geometry                          POINT (-73.83158111572266 40.88471221923828)   \n",
              "drop_geometry                      POINT (-73.85014343261719 40.8304328918457)   \n",
              "pickup_boro_name                                                         Bronx   \n",
              "dropoff_boro_name                                                        Bronx   \n",
              "haversine_dist                                                         3.87376   \n",
              "manhattan_dist                                                          4.9327   \n",
              "pickup_datetimeYear                                                       2016   \n",
              "pickup_datetimeMonth                                                         6   \n",
              "pickup_datetimeWeek                                                         26   \n",
              "pickup_datetimeDay                                                          29   \n",
              "pickup_datetimeDayofweek                                                     2   \n",
              "pickup_datetimeDayofyear                                                   181   \n",
              "pickup_datetimeIs_month_end                                              False   \n",
              "pickup_datetimeIs_month_start                                            False   \n",
              "pickup_datetimeIs_quarter_end                                            False   \n",
              "pickup_datetimeIs_quarter_start                                          False   \n",
              "pickup_datetimeIs_year_end                                               False   \n",
              "pickup_datetimeIs_year_start                                             False   \n",
              "pickup_datetimeHour                                                         19   \n",
              "pickup_datetimeMinute                                                       30   \n",
              "pickup_datetimeSecond                                                       12   \n",
              "pickup_datetimeElapsed                                              1467228612   \n",
              "dropoff_datetimeYear                                                      2016   \n",
              "dropoff_datetimeMonth                                                        6   \n",
              "dropoff_datetimeWeek                                                        26   \n",
              "dropoff_datetimeDay                                                         29   \n",
              "dropoff_datetimeDayofweek                                                    2   \n",
              "dropoff_datetimeDayofyear                                                  181   \n",
              "dropoff_datetimeIs_month_end                                             False   \n",
              "dropoff_datetimeIs_month_start                                           False   \n",
              "dropoff_datetimeIs_quarter_end                                           False   \n",
              "dropoff_datetimeIs_quarter_start                                         False   \n",
              "dropoff_datetimeIs_year_end                                              False   \n",
              "dropoff_datetimeIs_year_start                                            False   \n",
              "dropoff_datetimeHour                                                        19   \n",
              "dropoff_datetimeMinute                                                      41   \n",
              "dropoff_datetimeSecond                                                      26   \n",
              "dropoff_datetimeElapsed                                             1467229286   \n",
              "\n",
              "                                                                       1296520  \\\n",
              "id                                                                   id2807846   \n",
              "vendor_id                                                                    2   \n",
              "passenger_count                                                              1   \n",
              "pickup_longitude                                                       -73.831   \n",
              "pickup_latitude                                                        40.8705   \n",
              "dropoff_longitude                                                     -73.8291   \n",
              "dropoff_latitude                                                       40.8655   \n",
              "store_and_fwd_flag                                                           N   \n",
              "trip_duration                                                          6.98379   \n",
              "geometry                          POINT (-73.83104705810547 40.87054061889648)   \n",
              "drop_geometry                     POINT (-73.82906341552734 40.86553955078125)   \n",
              "pickup_boro_name                                                         Bronx   \n",
              "dropoff_boro_name                                                        Bronx   \n",
              "haversine_dist                                                         0.36075   \n",
              "manhattan_dist                                                        0.388366   \n",
              "pickup_datetimeYear                                                       2016   \n",
              "pickup_datetimeMonth                                                         1   \n",
              "pickup_datetimeWeek                                                          3   \n",
              "pickup_datetimeDay                                                          18   \n",
              "pickup_datetimeDayofweek                                                     0   \n",
              "pickup_datetimeDayofyear                                                    18   \n",
              "pickup_datetimeIs_month_end                                              False   \n",
              "pickup_datetimeIs_month_start                                            False   \n",
              "pickup_datetimeIs_quarter_end                                            False   \n",
              "pickup_datetimeIs_quarter_start                                          False   \n",
              "pickup_datetimeIs_year_end                                               False   \n",
              "pickup_datetimeIs_year_start                                             False   \n",
              "pickup_datetimeHour                                                         17   \n",
              "pickup_datetimeMinute                                                       15   \n",
              "pickup_datetimeSecond                                                       37   \n",
              "pickup_datetimeElapsed                                              1453137337   \n",
              "dropoff_datetimeYear                                                      2016   \n",
              "dropoff_datetimeMonth                                                        1   \n",
              "dropoff_datetimeWeek                                                         3   \n",
              "dropoff_datetimeDay                                                         18   \n",
              "dropoff_datetimeDayofweek                                                    0   \n",
              "dropoff_datetimeDayofyear                                                   18   \n",
              "dropoff_datetimeIs_month_end                                             False   \n",
              "dropoff_datetimeIs_month_start                                           False   \n",
              "dropoff_datetimeIs_quarter_end                                           False   \n",
              "dropoff_datetimeIs_quarter_start                                         False   \n",
              "dropoff_datetimeIs_year_end                                              False   \n",
              "dropoff_datetimeIs_year_start                                            False   \n",
              "dropoff_datetimeHour                                                        17   \n",
              "dropoff_datetimeMinute                                                      33   \n",
              "dropoff_datetimeSecond                                                      36   \n",
              "dropoff_datetimeElapsed                                             1453138416   \n",
              "\n",
              "                                                                       1296521  \\\n",
              "id                                                                   id0485626   \n",
              "vendor_id                                                                    1   \n",
              "passenger_count                                                              1   \n",
              "pickup_longitude                                                      -73.8271   \n",
              "pickup_latitude                                                        40.8789   \n",
              "dropoff_longitude                                                     -73.8268   \n",
              "dropoff_latitude                                                       40.8533   \n",
              "store_and_fwd_flag                                                           N   \n",
              "trip_duration                                                           5.8861   \n",
              "geometry                          POINT (-73.82709503173827 40.87891387939453)   \n",
              "drop_geometry                     POINT (-73.82678985595702 40.85330963134766)   \n",
              "pickup_boro_name                                                         Bronx   \n",
              "dropoff_boro_name                                                        Bronx   \n",
              "haversine_dist                                                         1.76916   \n",
              "manhattan_dist                                                         2.16461   \n",
              "pickup_datetimeYear                                                       2016   \n",
              "pickup_datetimeMonth                                                         4   \n",
              "pickup_datetimeWeek                                                         13   \n",
              "pickup_datetimeDay                                                           1   \n",
              "pickup_datetimeDayofweek                                                     4   \n",
              "pickup_datetimeDayofyear                                                    92   \n",
              "pickup_datetimeIs_month_end                                              False   \n",
              "pickup_datetimeIs_month_start                                             True   \n",
              "pickup_datetimeIs_quarter_end                                            False   \n",
              "pickup_datetimeIs_quarter_start                                           True   \n",
              "pickup_datetimeIs_year_end                                               False   \n",
              "pickup_datetimeIs_year_start                                             False   \n",
              "pickup_datetimeHour                                                          7   \n",
              "pickup_datetimeMinute                                                       49   \n",
              "pickup_datetimeSecond                                                       30   \n",
              "pickup_datetimeElapsed                                              1459496970   \n",
              "dropoff_datetimeYear                                                      2016   \n",
              "dropoff_datetimeMonth                                                        4   \n",
              "dropoff_datetimeWeek                                                        13   \n",
              "dropoff_datetimeDay                                                          1   \n",
              "dropoff_datetimeDayofweek                                                    4   \n",
              "dropoff_datetimeDayofyear                                                   92   \n",
              "dropoff_datetimeIs_month_end                                             False   \n",
              "dropoff_datetimeIs_month_start                                            True   \n",
              "dropoff_datetimeIs_quarter_end                                           False   \n",
              "dropoff_datetimeIs_quarter_start                                          True   \n",
              "dropoff_datetimeIs_year_end                                              False   \n",
              "dropoff_datetimeIs_year_start                                            False   \n",
              "dropoff_datetimeHour                                                         7   \n",
              "dropoff_datetimeMinute                                                      55   \n",
              "dropoff_datetimeSecond                                                      30   \n",
              "dropoff_datetimeElapsed                                             1459497330   \n",
              "\n",
              "                                                                       1296522  \n",
              "id                                                                   id2435486  \n",
              "vendor_id                                                                    2  \n",
              "passenger_count                                                              1  \n",
              "pickup_longitude                                                      -73.8264  \n",
              "pickup_latitude                                                        40.8619  \n",
              "dropoff_longitude                                                     -73.8666  \n",
              "dropoff_latitude                                                       40.7711  \n",
              "store_and_fwd_flag                                                           N  \n",
              "trip_duration                                                          6.89061  \n",
              "geometry                          POINT (-73.82640075683594 40.86192321777344)  \n",
              "drop_geometry                     POINT (-73.86663055419923 40.77106094360352)  \n",
              "pickup_boro_name                                                         Bronx  \n",
              "dropoff_boro_name                                                       Queens  \n",
              "haversine_dist                                                         6.62105  \n",
              "manhattan_dist                                                         8.42291  \n",
              "pickup_datetimeYear                                                       2016  \n",
              "pickup_datetimeMonth                                                         6  \n",
              "pickup_datetimeWeek                                                         22  \n",
              "pickup_datetimeDay                                                           4  \n",
              "pickup_datetimeDayofweek                                                     5  \n",
              "pickup_datetimeDayofyear                                                   156  \n",
              "pickup_datetimeIs_month_end                                              False  \n",
              "pickup_datetimeIs_month_start                                            False  \n",
              "pickup_datetimeIs_quarter_end                                            False  \n",
              "pickup_datetimeIs_quarter_start                                          False  \n",
              "pickup_datetimeIs_year_end                                               False  \n",
              "pickup_datetimeIs_year_start                                             False  \n",
              "pickup_datetimeHour                                                          3  \n",
              "pickup_datetimeMinute                                                       43  \n",
              "pickup_datetimeSecond                                                       55  \n",
              "pickup_datetimeElapsed                                              1465011835  \n",
              "dropoff_datetimeYear                                                      2016  \n",
              "dropoff_datetimeMonth                                                        6  \n",
              "dropoff_datetimeWeek                                                        22  \n",
              "dropoff_datetimeDay                                                          4  \n",
              "dropoff_datetimeDayofweek                                                    5  \n",
              "dropoff_datetimeDayofyear                                                  156  \n",
              "dropoff_datetimeIs_month_end                                             False  \n",
              "dropoff_datetimeIs_month_start                                           False  \n",
              "dropoff_datetimeIs_quarter_end                                           False  \n",
              "dropoff_datetimeIs_quarter_start                                         False  \n",
              "dropoff_datetimeIs_year_end                                              False  \n",
              "dropoff_datetimeIs_year_start                                            False  \n",
              "dropoff_datetimeHour                                                         4  \n",
              "dropoff_datetimeMinute                                                       0  \n",
              "dropoff_datetimeSecond                                                      18  \n",
              "dropoff_datetimeElapsed                                             1465012818  "
            ]
          },
          "metadata": {
            "tags": []
          },
          "execution_count": 37
        }
      ]
    },
    {
      "metadata": {
        "id": "EbRmAcEeP9Ik",
        "colab_type": "code",
        "colab": {}
      },
      "cell_type": "code",
      "source": [
        "raw_df.drop([\"geometry\", \"drop_geometry\"], axis = 1, inplace= True)"
      ],
      "execution_count": 0,
      "outputs": []
    },
    {
      "metadata": {
        "id": "OBpe2OoFVGC2",
        "colab_type": "code",
        "colab": {}
      },
      "cell_type": "code",
      "source": [
        "train_cats(raw_df)\n"
      ],
      "execution_count": 0,
      "outputs": []
    },
    {
      "metadata": {
        "id": "K_g1mqj59eiX",
        "colab_type": "code",
        "colab": {}
      },
      "cell_type": "code",
      "source": [
        "tdf, y, nas = proc_df(raw_df, y_fld = 'trip_duration')"
      ],
      "execution_count": 0,
      "outputs": []
    },
    {
      "metadata": {
        "id": "0S8oCI7kRENS",
        "colab_type": "code",
        "colab": {
          "base_uri": "https://localhost:8080/",
          "height": 35
        },
        "outputId": "113227cf-9749-4af3-9d83-2635f056cff0"
      },
      "cell_type": "code",
      "source": [
        "m = RandomForestRegressor(n_jobs=-1)\n",
        "m.fit(tdf, y)\n",
        "m.score(tdf,y)"
      ],
      "execution_count": 64,
      "outputs": [
        {
          "output_type": "execute_result",
          "data": {
            "text/plain": [
              "0.955018252420425"
            ]
          },
          "metadata": {
            "tags": []
          },
          "execution_count": 64
        }
      ]
    },
    {
      "metadata": {
        "id": "Sz_jDKCRYIB5",
        "colab_type": "code",
        "colab": {
          "base_uri": "https://localhost:8080/",
          "height": 1367
        },
        "outputId": "cec2d366-66ac-4df7-d97a-f24cf9fb079b"
      },
      "cell_type": "code",
      "source": [
        "tdf.tail().T"
      ],
      "execution_count": 65,
      "outputs": [
        {
          "output_type": "execute_result",
          "data": {
            "text/html": [
              "<div>\n",
              "<style scoped>\n",
              "    .dataframe tbody tr th:only-of-type {\n",
              "        vertical-align: middle;\n",
              "    }\n",
              "\n",
              "    .dataframe tbody tr th {\n",
              "        vertical-align: top;\n",
              "    }\n",
              "\n",
              "    .dataframe thead th {\n",
              "        text-align: right;\n",
              "    }\n",
              "</style>\n",
              "<table border=\"1\" class=\"dataframe\">\n",
              "  <thead>\n",
              "    <tr style=\"text-align: right;\">\n",
              "      <th></th>\n",
              "      <th>1296518</th>\n",
              "      <th>1296519</th>\n",
              "      <th>1296520</th>\n",
              "      <th>1296521</th>\n",
              "      <th>1296522</th>\n",
              "    </tr>\n",
              "  </thead>\n",
              "  <tbody>\n",
              "    <tr>\n",
              "      <th>vendor_id</th>\n",
              "      <td>2</td>\n",
              "      <td>2</td>\n",
              "      <td>2</td>\n",
              "      <td>1</td>\n",
              "      <td>2</td>\n",
              "    </tr>\n",
              "    <tr>\n",
              "      <th>passenger_count</th>\n",
              "      <td>1</td>\n",
              "      <td>3</td>\n",
              "      <td>1</td>\n",
              "      <td>1</td>\n",
              "      <td>1</td>\n",
              "    </tr>\n",
              "    <tr>\n",
              "      <th>pickup_longitude</th>\n",
              "      <td>-73.8319</td>\n",
              "      <td>-73.8316</td>\n",
              "      <td>-73.831</td>\n",
              "      <td>-73.8271</td>\n",
              "      <td>-73.8264</td>\n",
              "    </tr>\n",
              "    <tr>\n",
              "      <th>pickup_latitude</th>\n",
              "      <td>40.8821</td>\n",
              "      <td>40.8847</td>\n",
              "      <td>40.8705</td>\n",
              "      <td>40.8789</td>\n",
              "      <td>40.8619</td>\n",
              "    </tr>\n",
              "    <tr>\n",
              "      <th>dropoff_longitude</th>\n",
              "      <td>-73.8659</td>\n",
              "      <td>-73.8501</td>\n",
              "      <td>-73.8291</td>\n",
              "      <td>-73.8268</td>\n",
              "      <td>-73.8666</td>\n",
              "    </tr>\n",
              "    <tr>\n",
              "      <th>dropoff_latitude</th>\n",
              "      <td>40.8781</td>\n",
              "      <td>40.8304</td>\n",
              "      <td>40.8655</td>\n",
              "      <td>40.8533</td>\n",
              "      <td>40.7711</td>\n",
              "    </tr>\n",
              "    <tr>\n",
              "      <th>store_and_fwd_flag</th>\n",
              "      <td>1</td>\n",
              "      <td>1</td>\n",
              "      <td>1</td>\n",
              "      <td>1</td>\n",
              "      <td>1</td>\n",
              "    </tr>\n",
              "    <tr>\n",
              "      <th>pickup_boro_name</th>\n",
              "      <td>1</td>\n",
              "      <td>1</td>\n",
              "      <td>1</td>\n",
              "      <td>1</td>\n",
              "      <td>1</td>\n",
              "    </tr>\n",
              "    <tr>\n",
              "      <th>dropoff_boro_name</th>\n",
              "      <td>1</td>\n",
              "      <td>1</td>\n",
              "      <td>1</td>\n",
              "      <td>1</td>\n",
              "      <td>4</td>\n",
              "    </tr>\n",
              "    <tr>\n",
              "      <th>haversine_dist</th>\n",
              "      <td>1.7976</td>\n",
              "      <td>3.87376</td>\n",
              "      <td>0.36075</td>\n",
              "      <td>1.76916</td>\n",
              "      <td>6.62105</td>\n",
              "    </tr>\n",
              "    <tr>\n",
              "      <th>manhattan_dist</th>\n",
              "      <td>2.64008</td>\n",
              "      <td>4.9327</td>\n",
              "      <td>0.388366</td>\n",
              "      <td>2.16461</td>\n",
              "      <td>8.42291</td>\n",
              "    </tr>\n",
              "    <tr>\n",
              "      <th>pickup_datetimeYear</th>\n",
              "      <td>2016</td>\n",
              "      <td>2016</td>\n",
              "      <td>2016</td>\n",
              "      <td>2016</td>\n",
              "      <td>2016</td>\n",
              "    </tr>\n",
              "    <tr>\n",
              "      <th>pickup_datetimeMonth</th>\n",
              "      <td>2</td>\n",
              "      <td>6</td>\n",
              "      <td>1</td>\n",
              "      <td>4</td>\n",
              "      <td>6</td>\n",
              "    </tr>\n",
              "    <tr>\n",
              "      <th>pickup_datetimeWeek</th>\n",
              "      <td>8</td>\n",
              "      <td>26</td>\n",
              "      <td>3</td>\n",
              "      <td>13</td>\n",
              "      <td>22</td>\n",
              "    </tr>\n",
              "    <tr>\n",
              "      <th>pickup_datetimeDay</th>\n",
              "      <td>28</td>\n",
              "      <td>29</td>\n",
              "      <td>18</td>\n",
              "      <td>1</td>\n",
              "      <td>4</td>\n",
              "    </tr>\n",
              "    <tr>\n",
              "      <th>pickup_datetimeDayofweek</th>\n",
              "      <td>6</td>\n",
              "      <td>2</td>\n",
              "      <td>0</td>\n",
              "      <td>4</td>\n",
              "      <td>5</td>\n",
              "    </tr>\n",
              "    <tr>\n",
              "      <th>pickup_datetimeDayofyear</th>\n",
              "      <td>59</td>\n",
              "      <td>181</td>\n",
              "      <td>18</td>\n",
              "      <td>92</td>\n",
              "      <td>156</td>\n",
              "    </tr>\n",
              "    <tr>\n",
              "      <th>pickup_datetimeIs_month_end</th>\n",
              "      <td>False</td>\n",
              "      <td>False</td>\n",
              "      <td>False</td>\n",
              "      <td>False</td>\n",
              "      <td>False</td>\n",
              "    </tr>\n",
              "    <tr>\n",
              "      <th>pickup_datetimeIs_month_start</th>\n",
              "      <td>False</td>\n",
              "      <td>False</td>\n",
              "      <td>False</td>\n",
              "      <td>True</td>\n",
              "      <td>False</td>\n",
              "    </tr>\n",
              "    <tr>\n",
              "      <th>pickup_datetimeIs_quarter_end</th>\n",
              "      <td>False</td>\n",
              "      <td>False</td>\n",
              "      <td>False</td>\n",
              "      <td>False</td>\n",
              "      <td>False</td>\n",
              "    </tr>\n",
              "    <tr>\n",
              "      <th>pickup_datetimeIs_quarter_start</th>\n",
              "      <td>False</td>\n",
              "      <td>False</td>\n",
              "      <td>False</td>\n",
              "      <td>True</td>\n",
              "      <td>False</td>\n",
              "    </tr>\n",
              "    <tr>\n",
              "      <th>pickup_datetimeIs_year_end</th>\n",
              "      <td>False</td>\n",
              "      <td>False</td>\n",
              "      <td>False</td>\n",
              "      <td>False</td>\n",
              "      <td>False</td>\n",
              "    </tr>\n",
              "    <tr>\n",
              "      <th>pickup_datetimeIs_year_start</th>\n",
              "      <td>False</td>\n",
              "      <td>False</td>\n",
              "      <td>False</td>\n",
              "      <td>False</td>\n",
              "      <td>False</td>\n",
              "    </tr>\n",
              "    <tr>\n",
              "      <th>pickup_datetimeHour</th>\n",
              "      <td>19</td>\n",
              "      <td>19</td>\n",
              "      <td>17</td>\n",
              "      <td>7</td>\n",
              "      <td>3</td>\n",
              "    </tr>\n",
              "    <tr>\n",
              "      <th>pickup_datetimeMinute</th>\n",
              "      <td>39</td>\n",
              "      <td>30</td>\n",
              "      <td>15</td>\n",
              "      <td>49</td>\n",
              "      <td>43</td>\n",
              "    </tr>\n",
              "    <tr>\n",
              "      <th>pickup_datetimeSecond</th>\n",
              "      <td>47</td>\n",
              "      <td>12</td>\n",
              "      <td>37</td>\n",
              "      <td>30</td>\n",
              "      <td>55</td>\n",
              "    </tr>\n",
              "    <tr>\n",
              "      <th>pickup_datetimeElapsed</th>\n",
              "      <td>1456688387</td>\n",
              "      <td>1467228612</td>\n",
              "      <td>1453137337</td>\n",
              "      <td>1459496970</td>\n",
              "      <td>1465011835</td>\n",
              "    </tr>\n",
              "    <tr>\n",
              "      <th>dropoff_datetimeYear</th>\n",
              "      <td>2016</td>\n",
              "      <td>2016</td>\n",
              "      <td>2016</td>\n",
              "      <td>2016</td>\n",
              "      <td>2016</td>\n",
              "    </tr>\n",
              "    <tr>\n",
              "      <th>dropoff_datetimeMonth</th>\n",
              "      <td>2</td>\n",
              "      <td>6</td>\n",
              "      <td>1</td>\n",
              "      <td>4</td>\n",
              "      <td>6</td>\n",
              "    </tr>\n",
              "    <tr>\n",
              "      <th>dropoff_datetimeWeek</th>\n",
              "      <td>8</td>\n",
              "      <td>26</td>\n",
              "      <td>3</td>\n",
              "      <td>13</td>\n",
              "      <td>22</td>\n",
              "    </tr>\n",
              "    <tr>\n",
              "      <th>dropoff_datetimeDay</th>\n",
              "      <td>28</td>\n",
              "      <td>29</td>\n",
              "      <td>18</td>\n",
              "      <td>1</td>\n",
              "      <td>4</td>\n",
              "    </tr>\n",
              "    <tr>\n",
              "      <th>dropoff_datetimeDayofweek</th>\n",
              "      <td>6</td>\n",
              "      <td>2</td>\n",
              "      <td>0</td>\n",
              "      <td>4</td>\n",
              "      <td>5</td>\n",
              "    </tr>\n",
              "    <tr>\n",
              "      <th>dropoff_datetimeDayofyear</th>\n",
              "      <td>59</td>\n",
              "      <td>181</td>\n",
              "      <td>18</td>\n",
              "      <td>92</td>\n",
              "      <td>156</td>\n",
              "    </tr>\n",
              "    <tr>\n",
              "      <th>dropoff_datetimeIs_month_end</th>\n",
              "      <td>False</td>\n",
              "      <td>False</td>\n",
              "      <td>False</td>\n",
              "      <td>False</td>\n",
              "      <td>False</td>\n",
              "    </tr>\n",
              "    <tr>\n",
              "      <th>dropoff_datetimeIs_month_start</th>\n",
              "      <td>False</td>\n",
              "      <td>False</td>\n",
              "      <td>False</td>\n",
              "      <td>True</td>\n",
              "      <td>False</td>\n",
              "    </tr>\n",
              "    <tr>\n",
              "      <th>dropoff_datetimeIs_quarter_end</th>\n",
              "      <td>False</td>\n",
              "      <td>False</td>\n",
              "      <td>False</td>\n",
              "      <td>False</td>\n",
              "      <td>False</td>\n",
              "    </tr>\n",
              "    <tr>\n",
              "      <th>dropoff_datetimeIs_quarter_start</th>\n",
              "      <td>False</td>\n",
              "      <td>False</td>\n",
              "      <td>False</td>\n",
              "      <td>True</td>\n",
              "      <td>False</td>\n",
              "    </tr>\n",
              "    <tr>\n",
              "      <th>dropoff_datetimeIs_year_end</th>\n",
              "      <td>False</td>\n",
              "      <td>False</td>\n",
              "      <td>False</td>\n",
              "      <td>False</td>\n",
              "      <td>False</td>\n",
              "    </tr>\n",
              "    <tr>\n",
              "      <th>dropoff_datetimeIs_year_start</th>\n",
              "      <td>False</td>\n",
              "      <td>False</td>\n",
              "      <td>False</td>\n",
              "      <td>False</td>\n",
              "      <td>False</td>\n",
              "    </tr>\n",
              "    <tr>\n",
              "      <th>dropoff_datetimeHour</th>\n",
              "      <td>19</td>\n",
              "      <td>19</td>\n",
              "      <td>17</td>\n",
              "      <td>7</td>\n",
              "      <td>4</td>\n",
              "    </tr>\n",
              "    <tr>\n",
              "      <th>dropoff_datetimeMinute</th>\n",
              "      <td>49</td>\n",
              "      <td>41</td>\n",
              "      <td>33</td>\n",
              "      <td>55</td>\n",
              "      <td>0</td>\n",
              "    </tr>\n",
              "    <tr>\n",
              "      <th>dropoff_datetimeSecond</th>\n",
              "      <td>6</td>\n",
              "      <td>26</td>\n",
              "      <td>36</td>\n",
              "      <td>30</td>\n",
              "      <td>18</td>\n",
              "    </tr>\n",
              "    <tr>\n",
              "      <th>dropoff_datetimeElapsed</th>\n",
              "      <td>1456688946</td>\n",
              "      <td>1467229286</td>\n",
              "      <td>1453138416</td>\n",
              "      <td>1459497330</td>\n",
              "      <td>1465012818</td>\n",
              "    </tr>\n",
              "  </tbody>\n",
              "</table>\n",
              "</div>"
            ],
            "text/plain": [
              "                                     1296518     1296519     1296520  \\\n",
              "vendor_id                                  2           2           2   \n",
              "passenger_count                            1           3           1   \n",
              "pickup_longitude                    -73.8319    -73.8316     -73.831   \n",
              "pickup_latitude                      40.8821     40.8847     40.8705   \n",
              "dropoff_longitude                   -73.8659    -73.8501    -73.8291   \n",
              "dropoff_latitude                     40.8781     40.8304     40.8655   \n",
              "store_and_fwd_flag                         1           1           1   \n",
              "pickup_boro_name                           1           1           1   \n",
              "dropoff_boro_name                          1           1           1   \n",
              "haversine_dist                        1.7976     3.87376     0.36075   \n",
              "manhattan_dist                       2.64008      4.9327    0.388366   \n",
              "pickup_datetimeYear                     2016        2016        2016   \n",
              "pickup_datetimeMonth                       2           6           1   \n",
              "pickup_datetimeWeek                        8          26           3   \n",
              "pickup_datetimeDay                        28          29          18   \n",
              "pickup_datetimeDayofweek                   6           2           0   \n",
              "pickup_datetimeDayofyear                  59         181          18   \n",
              "pickup_datetimeIs_month_end            False       False       False   \n",
              "pickup_datetimeIs_month_start          False       False       False   \n",
              "pickup_datetimeIs_quarter_end          False       False       False   \n",
              "pickup_datetimeIs_quarter_start        False       False       False   \n",
              "pickup_datetimeIs_year_end             False       False       False   \n",
              "pickup_datetimeIs_year_start           False       False       False   \n",
              "pickup_datetimeHour                       19          19          17   \n",
              "pickup_datetimeMinute                     39          30          15   \n",
              "pickup_datetimeSecond                     47          12          37   \n",
              "pickup_datetimeElapsed            1456688387  1467228612  1453137337   \n",
              "dropoff_datetimeYear                    2016        2016        2016   \n",
              "dropoff_datetimeMonth                      2           6           1   \n",
              "dropoff_datetimeWeek                       8          26           3   \n",
              "dropoff_datetimeDay                       28          29          18   \n",
              "dropoff_datetimeDayofweek                  6           2           0   \n",
              "dropoff_datetimeDayofyear                 59         181          18   \n",
              "dropoff_datetimeIs_month_end           False       False       False   \n",
              "dropoff_datetimeIs_month_start         False       False       False   \n",
              "dropoff_datetimeIs_quarter_end         False       False       False   \n",
              "dropoff_datetimeIs_quarter_start       False       False       False   \n",
              "dropoff_datetimeIs_year_end            False       False       False   \n",
              "dropoff_datetimeIs_year_start          False       False       False   \n",
              "dropoff_datetimeHour                      19          19          17   \n",
              "dropoff_datetimeMinute                    49          41          33   \n",
              "dropoff_datetimeSecond                     6          26          36   \n",
              "dropoff_datetimeElapsed           1456688946  1467229286  1453138416   \n",
              "\n",
              "                                     1296521     1296522  \n",
              "vendor_id                                  1           2  \n",
              "passenger_count                            1           1  \n",
              "pickup_longitude                    -73.8271    -73.8264  \n",
              "pickup_latitude                      40.8789     40.8619  \n",
              "dropoff_longitude                   -73.8268    -73.8666  \n",
              "dropoff_latitude                     40.8533     40.7711  \n",
              "store_and_fwd_flag                         1           1  \n",
              "pickup_boro_name                           1           1  \n",
              "dropoff_boro_name                          1           4  \n",
              "haversine_dist                       1.76916     6.62105  \n",
              "manhattan_dist                       2.16461     8.42291  \n",
              "pickup_datetimeYear                     2016        2016  \n",
              "pickup_datetimeMonth                       4           6  \n",
              "pickup_datetimeWeek                       13          22  \n",
              "pickup_datetimeDay                         1           4  \n",
              "pickup_datetimeDayofweek                   4           5  \n",
              "pickup_datetimeDayofyear                  92         156  \n",
              "pickup_datetimeIs_month_end            False       False  \n",
              "pickup_datetimeIs_month_start           True       False  \n",
              "pickup_datetimeIs_quarter_end          False       False  \n",
              "pickup_datetimeIs_quarter_start         True       False  \n",
              "pickup_datetimeIs_year_end             False       False  \n",
              "pickup_datetimeIs_year_start           False       False  \n",
              "pickup_datetimeHour                        7           3  \n",
              "pickup_datetimeMinute                     49          43  \n",
              "pickup_datetimeSecond                     30          55  \n",
              "pickup_datetimeElapsed            1459496970  1465011835  \n",
              "dropoff_datetimeYear                    2016        2016  \n",
              "dropoff_datetimeMonth                      4           6  \n",
              "dropoff_datetimeWeek                      13          22  \n",
              "dropoff_datetimeDay                        1           4  \n",
              "dropoff_datetimeDayofweek                  4           5  \n",
              "dropoff_datetimeDayofyear                 92         156  \n",
              "dropoff_datetimeIs_month_end           False       False  \n",
              "dropoff_datetimeIs_month_start          True       False  \n",
              "dropoff_datetimeIs_quarter_end         False       False  \n",
              "dropoff_datetimeIs_quarter_start        True       False  \n",
              "dropoff_datetimeIs_year_end            False       False  \n",
              "dropoff_datetimeIs_year_start          False       False  \n",
              "dropoff_datetimeHour                       7           4  \n",
              "dropoff_datetimeMinute                    55           0  \n",
              "dropoff_datetimeSecond                    30          18  \n",
              "dropoff_datetimeElapsed           1459497330  1465012818  "
            ]
          },
          "metadata": {
            "tags": []
          },
          "execution_count": 65
        }
      ]
    },
    {
      "metadata": {
        "id": "Vd3jFgbBRyKZ",
        "colab_type": "code",
        "colab": {
          "base_uri": "https://localhost:8080/",
          "height": 35
        },
        "outputId": "d8bb4cb0-0b52-4b66-e0ff-11b2b98da3bb"
      },
      "cell_type": "code",
      "source": [
        "\n",
        "def split_vals(a,n): return a[:n].copy(), a[n:].copy()\n",
        "\n",
        "n_valid = 10000\n",
        "n_trn = len(tdf)-n_valid\n",
        "raw_train, raw_valid = split_vals(raw_df, n_trn)\n",
        "X_train, X_valid = split_vals(tdf, n_trn)\n",
        "y_train, y_valid = split_vals(y, n_trn)\n",
        "\n",
        "X_train.shape, y_train.shape, X_valid.shape"
      ],
      "execution_count": 66,
      "outputs": [
        {
          "output_type": "execute_result",
          "data": {
            "text/plain": [
              "((1286523, 43), (1286523,), (10000, 43))"
            ]
          },
          "metadata": {
            "tags": []
          },
          "execution_count": 66
        }
      ]
    },
    {
      "metadata": {
        "id": "Io-bsmikZA18",
        "colab_type": "code",
        "colab": {}
      },
      "cell_type": "code",
      "source": [
        "def rmse(x,y): return math.sqrt(((x-y)**2).mean())\n",
        "\n",
        "def print_score(m, X_train, y_train, X_valid, y_valid):\n",
        "    res = [rmse(m.predict(X_train), y_train), rmse(m.predict(X_valid), y_valid),\n",
        "                m.score(X_train, y_train), m.score(X_valid, y_valid)]\n",
        "    if hasattr(m, 'oob_score_'): res.append(m.oob_score_)\n",
        "    print(res)"
      ],
      "execution_count": 0,
      "outputs": []
    },
    {
      "metadata": {
        "id": "Aug2hCpuaN88",
        "colab_type": "code",
        "colab": {
          "base_uri": "https://localhost:8080/",
          "height": 69
        },
        "outputId": "e46aafa3-4d23-4313-ccde-c7bbdfd43f2d"
      },
      "cell_type": "code",
      "source": [
        "m = RandomForestRegressor(n_jobs=-1)\n",
        "%time m.fit(X_train, y_train)\n",
        "print_score(m, X_train, y_train, X_valid, y_valid)"
      ],
      "execution_count": 68,
      "outputs": [
        {
          "output_type": "stream",
          "text": [
            "CPU times: user 12min 22s, sys: 1.04 s, total: 12min 23s\n",
            "Wall time: 6min 19s\n",
            "[0.13255941068600735, 0.29822315428114443, 0.9557856455730048, 0.7531569411320408]\n"
          ],
          "name": "stdout"
        }
      ]
    },
    {
      "metadata": {
        "id": "zNHnPBnkaulH",
        "colab_type": "code",
        "colab": {}
      },
      "cell_type": "code",
      "source": [
        "df_trn, y_trn, nas = proc_df(raw_df, 'trip_duration', subset=30000, na_dict=nas)\n",
        "X_train, _ = split_vals(df_trn, 20000)\n",
        "y_train, _ = split_vals(y_trn, 20000)"
      ],
      "execution_count": 0,
      "outputs": []
    },
    {
      "metadata": {
        "id": "ovNIMZ_Pfb1v",
        "colab_type": "code",
        "colab": {
          "base_uri": "https://localhost:8080/",
          "height": 35
        },
        "outputId": "a3e953f0-ba3b-4e16-c0cc-b66228a302c6"
      },
      "cell_type": "code",
      "source": [
        "m = RandomForestRegressor(n_estimators=1, max_depth=3, bootstrap=False, n_jobs=-1)\n",
        "m.fit(X_train, y_train)\n",
        "print_score(m, X_train, y_train, X_valid, y_valid)"
      ],
      "execution_count": 71,
      "outputs": [
        {
          "output_type": "stream",
          "text": [
            "[0.43189613285718886, 0.43534106106409093, 0.5579396199454063, 0.47398580565074866]\n"
          ],
          "name": "stdout"
        }
      ]
    },
    {
      "metadata": {
        "id": "QV_UeqdYfnvf",
        "colab_type": "code",
        "colab": {
          "base_uri": "https://localhost:8080/",
          "height": 600
        },
        "outputId": "81b3fbe9-89fa-4d4b-b594-4047af8f187e"
      },
      "cell_type": "code",
      "source": [
        "draw_tree(m.estimators_[0], df_trn, precision=3)"
      ],
      "execution_count": 74,
      "outputs": [
        {
          "output_type": "display_data",
          "data": {
            "text/plain": [
              "<graphviz.files.Source at 0x7fe399cd1be0>"
            ],
            "image/svg+xml": "<?xml version=\"1.0\" encoding=\"UTF-8\" standalone=\"no\"?>\n<!DOCTYPE svg PUBLIC \"-//W3C//DTD SVG 1.1//EN\"\n \"http://www.w3.org/Graphics/SVG/1.1/DTD/svg11.dtd\">\n<!-- Generated by graphviz version 2.40.1 (20161225.0304)\n -->\n<!-- Title: Tree Pages: 1 -->\n<svg width=\"720pt\" height=\"434pt\"\n viewBox=\"0.00 0.00 720.00 434.49\" xmlns=\"http://www.w3.org/2000/svg\" xmlns:xlink=\"http://www.w3.org/1999/xlink\">\n<g id=\"graph0\" class=\"graph\" transform=\"scale(.7787 .7787) rotate(0) translate(4 554)\">\n<title>Tree</title>\n<polygon fill=\"#ffffff\" stroke=\"transparent\" points=\"-4,4 -4,-554 920.6667,-554 920.6667,4 -4,4\"/>\n<!-- 0 -->\n<g id=\"node1\" class=\"node\">\n<title>0</title>\n<polygon fill=\"#e58139\" fill-opacity=\"0.333333\" stroke=\"#000000\" points=\"173.1667,-336.5 26.1667,-336.5 26.1667,-268.5 173.1667,-268.5 173.1667,-336.5\"/>\n<text text-anchor=\"start\" x=\"34.1667\" y=\"-321.3\" font-family=\"Times,serif\" font-size=\"14.00\" fill=\"#000000\">haversine_dist ≤ 1.882</text>\n<text text-anchor=\"start\" x=\"63.1667\" y=\"-306.3\" font-family=\"Times,serif\" font-size=\"14.00\" fill=\"#000000\">mse = 0.422</text>\n<text text-anchor=\"start\" x=\"50.1667\" y=\"-291.3\" font-family=\"Times,serif\" font-size=\"14.00\" fill=\"#000000\">samples = 20000</text>\n<text text-anchor=\"start\" x=\"59.1667\" y=\"-276.3\" font-family=\"Times,serif\" font-size=\"14.00\" fill=\"#000000\">value = 6.672</text>\n</g>\n<!-- 1 -->\n<g id=\"node2\" class=\"node\">\n<title>1</title>\n<polygon fill=\"#e58139\" fill-opacity=\"0.149020\" stroke=\"#000000\" points=\"426.1667,-372.5 279.1667,-372.5 279.1667,-304.5 426.1667,-304.5 426.1667,-372.5\"/>\n<text text-anchor=\"start\" x=\"287.1667\" y=\"-357.3\" font-family=\"Times,serif\" font-size=\"14.00\" fill=\"#000000\">haversine_dist ≤ 0.955</text>\n<text text-anchor=\"start\" x=\"320.1667\" y=\"-342.3\" font-family=\"Times,serif\" font-size=\"14.00\" fill=\"#000000\">mse = 0.25</text>\n<text text-anchor=\"start\" x=\"303.6667\" y=\"-327.3\" font-family=\"Times,serif\" font-size=\"14.00\" fill=\"#000000\">samples = 11736</text>\n<text text-anchor=\"start\" x=\"312.1667\" y=\"-312.3\" font-family=\"Times,serif\" font-size=\"14.00\" fill=\"#000000\">value = 6.331</text>\n</g>\n<!-- 0&#45;&gt;1 -->\n<g id=\"edge1\" class=\"edge\">\n<title>0&#45;&gt;1</title>\n<path fill=\"none\" stroke=\"#000000\" d=\"M173.1846,-312.961C203.2005,-317.2321 238.0739,-322.1943 269.0546,-326.6026\"/>\n<polygon fill=\"#000000\" stroke=\"#000000\" points=\"268.572,-330.0691 278.9654,-328.0129 269.5582,-323.1389 268.572,-330.0691\"/>\n<text text-anchor=\"middle\" x=\"258.9737\" y=\"-339.3239\" font-family=\"Times,serif\" font-size=\"14.00\" fill=\"#000000\">True</text>\n</g>\n<!-- 8 -->\n<g id=\"node9\" class=\"node\">\n<title>8</title>\n<polygon fill=\"#e58139\" fill-opacity=\"0.592157\" stroke=\"#000000\" points=\"428.6667,-245.5 276.6667,-245.5 276.6667,-177.5 428.6667,-177.5 428.6667,-245.5\"/>\n<text text-anchor=\"start\" x=\"284.6667\" y=\"-230.3\" font-family=\"Times,serif\" font-size=\"14.00\" fill=\"#000000\">manhattan_dist ≤ 7.608</text>\n<text text-anchor=\"start\" x=\"316.1667\" y=\"-215.3\" font-family=\"Times,serif\" font-size=\"14.00\" fill=\"#000000\">mse = 0.266</text>\n<text text-anchor=\"start\" x=\"307.1667\" y=\"-200.3\" font-family=\"Times,serif\" font-size=\"14.00\" fill=\"#000000\">samples = 8264</text>\n<text text-anchor=\"start\" x=\"312.1667\" y=\"-185.3\" font-family=\"Times,serif\" font-size=\"14.00\" fill=\"#000000\">value = 7.157</text>\n</g>\n<!-- 0&#45;&gt;8 -->\n<g id=\"edge8\" class=\"edge\">\n<title>0&#45;&gt;8</title>\n<path fill=\"none\" stroke=\"#000000\" d=\"M173.1846,-276.0568C202.4106,-265.5447 236.2418,-253.3761 266.6008,-242.4565\"/>\n<polygon fill=\"#000000\" stroke=\"#000000\" points=\"268.1002,-245.6368 276.3254,-238.9587 265.7309,-239.0499 268.1002,-245.6368\"/>\n<text text-anchor=\"middle\" x=\"253.7079\" y=\"-224.6075\" font-family=\"Times,serif\" font-size=\"14.00\" fill=\"#000000\">False</text>\n</g>\n<!-- 2 -->\n<g id=\"node3\" class=\"node\">\n<title>2</title>\n<polygon fill=\"#e58139\" fill-opacity=\"0.039216\" stroke=\"#000000\" points=\"687.1667,-486.5 540.1667,-486.5 540.1667,-418.5 687.1667,-418.5 687.1667,-486.5\"/>\n<text text-anchor=\"start\" x=\"548.1667\" y=\"-471.3\" font-family=\"Times,serif\" font-size=\"14.00\" fill=\"#000000\">haversine_dist ≤ 0.733</text>\n<text text-anchor=\"start\" x=\"577.1667\" y=\"-456.3\" font-family=\"Times,serif\" font-size=\"14.00\" fill=\"#000000\">mse = 0.216</text>\n<text text-anchor=\"start\" x=\"568.1667\" y=\"-441.3\" font-family=\"Times,serif\" font-size=\"14.00\" fill=\"#000000\">samples = 5307</text>\n<text text-anchor=\"start\" x=\"573.1667\" y=\"-426.3\" font-family=\"Times,serif\" font-size=\"14.00\" fill=\"#000000\">value = 6.122</text>\n</g>\n<!-- 1&#45;&gt;2 -->\n<g id=\"edge2\" class=\"edge\">\n<title>1&#45;&gt;2</title>\n<path fill=\"none\" stroke=\"#000000\" d=\"M426.4122,-370.7107C458.9304,-384.9141 497.2877,-401.6678 530.7912,-416.3015\"/>\n<polygon fill=\"#000000\" stroke=\"#000000\" points=\"529.5383,-419.5735 540.1033,-420.3689 532.3402,-413.1587 529.5383,-419.5735\"/>\n</g>\n<!-- 5 -->\n<g id=\"node6\" class=\"node\">\n<title>5</title>\n<polygon fill=\"#e58139\" fill-opacity=\"0.239216\" stroke=\"#000000\" points=\"687.1667,-372.5 540.1667,-372.5 540.1667,-304.5 687.1667,-304.5 687.1667,-372.5\"/>\n<text text-anchor=\"start\" x=\"548.1667\" y=\"-357.3\" font-family=\"Times,serif\" font-size=\"14.00\" fill=\"#000000\">haversine_dist ≤ 1.286</text>\n<text text-anchor=\"start\" x=\"577.1667\" y=\"-342.3\" font-family=\"Times,serif\" font-size=\"14.00\" fill=\"#000000\">mse = 0.212</text>\n<text text-anchor=\"start\" x=\"568.1667\" y=\"-327.3\" font-family=\"Times,serif\" font-size=\"14.00\" fill=\"#000000\">samples = 6429</text>\n<text text-anchor=\"start\" x=\"573.1667\" y=\"-312.3\" font-family=\"Times,serif\" font-size=\"14.00\" fill=\"#000000\">value = 6.503</text>\n</g>\n<!-- 1&#45;&gt;5 -->\n<g id=\"edge5\" class=\"edge\">\n<title>1&#45;&gt;5</title>\n<path fill=\"none\" stroke=\"#000000\" d=\"M426.4122,-338.5C458.6525,-338.5 496.6324,-338.5 529.931,-338.5\"/>\n<polygon fill=\"#000000\" stroke=\"#000000\" points=\"530.1033,-342.0001 540.1033,-338.5 530.1032,-335.0001 530.1033,-342.0001\"/>\n</g>\n<!-- 3 -->\n<g id=\"node4\" class=\"node\">\n<title>3</title>\n<polygon fill=\"transparent\" stroke=\"#000000\" points=\"897.1667,-550 790.1667,-550 790.1667,-497 897.1667,-497 897.1667,-550\"/>\n<text text-anchor=\"start\" x=\"807.1667\" y=\"-534.8\" font-family=\"Times,serif\" font-size=\"14.00\" fill=\"#000000\">mse = 0.207</text>\n<text text-anchor=\"start\" x=\"798.1667\" y=\"-519.8\" font-family=\"Times,serif\" font-size=\"14.00\" fill=\"#000000\">samples = 2993</text>\n<text text-anchor=\"start\" x=\"803.1667\" y=\"-504.8\" font-family=\"Times,serif\" font-size=\"14.00\" fill=\"#000000\">value = 6.052</text>\n</g>\n<!-- 2&#45;&gt;3 -->\n<g id=\"edge3\" class=\"edge\">\n<title>2&#45;&gt;3</title>\n<path fill=\"none\" stroke=\"#000000\" d=\"M687.3891,-475.2578C717.2435,-484.4737 751.377,-495.0106 780.1125,-503.8811\"/>\n<polygon fill=\"#000000\" stroke=\"#000000\" points=\"779.4481,-507.3389 790.0356,-506.9443 781.5129,-500.6503 779.4481,-507.3389\"/>\n</g>\n<!-- 4 -->\n<g id=\"node5\" class=\"node\">\n<title>4</title>\n<polygon fill=\"#e58139\" fill-opacity=\"0.086275\" stroke=\"#000000\" points=\"897.1667,-479 790.1667,-479 790.1667,-426 897.1667,-426 897.1667,-479\"/>\n<text text-anchor=\"start\" x=\"807.1667\" y=\"-463.8\" font-family=\"Times,serif\" font-size=\"14.00\" fill=\"#000000\">mse = 0.214</text>\n<text text-anchor=\"start\" x=\"798.1667\" y=\"-448.8\" font-family=\"Times,serif\" font-size=\"14.00\" fill=\"#000000\">samples = 2314</text>\n<text text-anchor=\"start\" x=\"803.1667\" y=\"-433.8\" font-family=\"Times,serif\" font-size=\"14.00\" fill=\"#000000\">value = 6.214</text>\n</g>\n<!-- 2&#45;&gt;4 -->\n<g id=\"edge4\" class=\"edge\">\n<title>2&#45;&gt;4</title>\n<path fill=\"none\" stroke=\"#000000\" d=\"M687.3891,-452.5C717.1131,-452.5 751.079,-452.5 779.7357,-452.5\"/>\n<polygon fill=\"#000000\" stroke=\"#000000\" points=\"780.0356,-456.0001 790.0356,-452.5 780.0355,-449.0001 780.0356,-456.0001\"/>\n</g>\n<!-- 6 -->\n<g id=\"node7\" class=\"node\">\n<title>6</title>\n<polygon fill=\"#e58139\" fill-opacity=\"0.176471\" stroke=\"#000000\" points=\"897.1667,-408 790.1667,-408 790.1667,-355 897.1667,-355 897.1667,-408\"/>\n<text text-anchor=\"start\" x=\"807.1667\" y=\"-392.8\" font-family=\"Times,serif\" font-size=\"14.00\" fill=\"#000000\">mse = 0.187</text>\n<text text-anchor=\"start\" x=\"798.1667\" y=\"-377.8\" font-family=\"Times,serif\" font-size=\"14.00\" fill=\"#000000\">samples = 2883</text>\n<text text-anchor=\"start\" x=\"807.1667\" y=\"-362.8\" font-family=\"Times,serif\" font-size=\"14.00\" fill=\"#000000\">value = 6.38</text>\n</g>\n<!-- 5&#45;&gt;6 -->\n<g id=\"edge6\" class=\"edge\">\n<title>5&#45;&gt;6</title>\n<path fill=\"none\" stroke=\"#000000\" d=\"M687.3891,-352.2829C717.2435,-357.8644 751.377,-364.2458 780.1125,-369.6181\"/>\n<polygon fill=\"#000000\" stroke=\"#000000\" points=\"779.5626,-373.0759 790.0356,-371.4733 780.8491,-366.1951 779.5626,-373.0759\"/>\n</g>\n<!-- 7 -->\n<g id=\"node8\" class=\"node\">\n<title>7</title>\n<polygon fill=\"#e58139\" fill-opacity=\"0.294118\" stroke=\"#000000\" points=\"897.1667,-337 790.1667,-337 790.1667,-284 897.1667,-284 897.1667,-337\"/>\n<text text-anchor=\"start\" x=\"807.1667\" y=\"-321.8\" font-family=\"Times,serif\" font-size=\"14.00\" fill=\"#000000\">mse = 0.209</text>\n<text text-anchor=\"start\" x=\"798.1667\" y=\"-306.8\" font-family=\"Times,serif\" font-size=\"14.00\" fill=\"#000000\">samples = 3546</text>\n<text text-anchor=\"start\" x=\"803.1667\" y=\"-291.8\" font-family=\"Times,serif\" font-size=\"14.00\" fill=\"#000000\">value = 6.603</text>\n</g>\n<!-- 5&#45;&gt;7 -->\n<g id=\"edge7\" class=\"edge\">\n<title>5&#45;&gt;7</title>\n<path fill=\"none\" stroke=\"#000000\" d=\"M687.3891,-329.5251C717.1131,-325.9065 751.079,-321.7715 779.7357,-318.2829\"/>\n<polygon fill=\"#000000\" stroke=\"#000000\" points=\"780.5318,-321.7119 790.0356,-317.029 779.6859,-314.7632 780.5318,-321.7119\"/>\n</g>\n<!-- 9 -->\n<g id=\"node10\" class=\"node\">\n<title>9</title>\n<polygon fill=\"#e58139\" fill-opacity=\"0.505882\" stroke=\"#000000\" points=\"687.1667,-245.5 540.1667,-245.5 540.1667,-177.5 687.1667,-177.5 687.1667,-245.5\"/>\n<text text-anchor=\"start\" x=\"548.1667\" y=\"-230.3\" font-family=\"Times,serif\" font-size=\"14.00\" fill=\"#000000\">haversine_dist ≤ 2.864</text>\n<text text-anchor=\"start\" x=\"581.1667\" y=\"-215.3\" font-family=\"Times,serif\" font-size=\"14.00\" fill=\"#000000\">mse = 0.18</text>\n<text text-anchor=\"start\" x=\"568.1667\" y=\"-200.3\" font-family=\"Times,serif\" font-size=\"14.00\" fill=\"#000000\">samples = 6228</text>\n<text text-anchor=\"start\" x=\"573.1667\" y=\"-185.3\" font-family=\"Times,serif\" font-size=\"14.00\" fill=\"#000000\">value = 6.997</text>\n</g>\n<!-- 8&#45;&gt;9 -->\n<g id=\"edge9\" class=\"edge\">\n<title>8&#45;&gt;9</title>\n<path fill=\"none\" stroke=\"#000000\" d=\"M428.8603,-211.5C460.4948,-211.5 497.3113,-211.5 529.7196,-211.5\"/>\n<polygon fill=\"#000000\" stroke=\"#000000\" points=\"530.0748,-215.0001 540.0747,-211.5 530.0747,-208.0001 530.0748,-215.0001\"/>\n</g>\n<!-- 12 -->\n<g id=\"node13\" class=\"node\">\n<title>12</title>\n<polygon fill=\"#e58139\" fill-opacity=\"0.850980\" stroke=\"#000000\" points=\"693.6667,-131.5 533.6667,-131.5 533.6667,-63.5 693.6667,-63.5 693.6667,-131.5\"/>\n<text text-anchor=\"start\" x=\"541.6667\" y=\"-116.3\" font-family=\"Times,serif\" font-size=\"14.00\" fill=\"#000000\">manhattan_dist ≤ 16.294</text>\n<text text-anchor=\"start\" x=\"577.1667\" y=\"-101.3\" font-family=\"Times,serif\" font-size=\"14.00\" fill=\"#000000\">mse = 0.209</text>\n<text text-anchor=\"start\" x=\"568.1667\" y=\"-86.3\" font-family=\"Times,serif\" font-size=\"14.00\" fill=\"#000000\">samples = 2036</text>\n<text text-anchor=\"start\" x=\"573.1667\" y=\"-71.3\" font-family=\"Times,serif\" font-size=\"14.00\" fill=\"#000000\">value = 7.648</text>\n</g>\n<!-- 8&#45;&gt;12 -->\n<g id=\"edge12\" class=\"edge\">\n<title>8&#45;&gt;12</title>\n<path fill=\"none\" stroke=\"#000000\" d=\"M428.8603,-178.22C459.3993,-164.8812 494.7675,-149.433 526.337,-135.644\"/>\n<polygon fill=\"#000000\" stroke=\"#000000\" points=\"527.8036,-138.8228 535.5666,-131.6127 525.0017,-132.408 527.8036,-138.8228\"/>\n</g>\n<!-- 10 -->\n<g id=\"node11\" class=\"node\">\n<title>10</title>\n<polygon fill=\"#e58139\" fill-opacity=\"0.423529\" stroke=\"#000000\" points=\"897.1667,-266 790.1667,-266 790.1667,-213 897.1667,-213 897.1667,-266\"/>\n<text text-anchor=\"start\" x=\"811.1667\" y=\"-250.8\" font-family=\"Times,serif\" font-size=\"14.00\" fill=\"#000000\">mse = 0.15</text>\n<text text-anchor=\"start\" x=\"798.1667\" y=\"-235.8\" font-family=\"Times,serif\" font-size=\"14.00\" fill=\"#000000\">samples = 3092</text>\n<text text-anchor=\"start\" x=\"803.1667\" y=\"-220.8\" font-family=\"Times,serif\" font-size=\"14.00\" fill=\"#000000\">value = 6.847</text>\n</g>\n<!-- 9&#45;&gt;10 -->\n<g id=\"edge10\" class=\"edge\">\n<title>9&#45;&gt;10</title>\n<path fill=\"none\" stroke=\"#000000\" d=\"M687.3891,-220.4749C717.1131,-224.0935 751.079,-228.2285 779.7357,-231.7171\"/>\n<polygon fill=\"#000000\" stroke=\"#000000\" points=\"779.6859,-235.2368 790.0356,-232.971 780.5318,-228.2881 779.6859,-235.2368\"/>\n</g>\n<!-- 11 -->\n<g id=\"node12\" class=\"node\">\n<title>11</title>\n<polygon fill=\"#e58139\" fill-opacity=\"0.584314\" stroke=\"#000000\" points=\"897.1667,-195 790.1667,-195 790.1667,-142 897.1667,-142 897.1667,-195\"/>\n<text text-anchor=\"start\" x=\"807.1667\" y=\"-179.8\" font-family=\"Times,serif\" font-size=\"14.00\" fill=\"#000000\">mse = 0.166</text>\n<text text-anchor=\"start\" x=\"798.1667\" y=\"-164.8\" font-family=\"Times,serif\" font-size=\"14.00\" fill=\"#000000\">samples = 3136</text>\n<text text-anchor=\"start\" x=\"803.1667\" y=\"-149.8\" font-family=\"Times,serif\" font-size=\"14.00\" fill=\"#000000\">value = 7.144</text>\n</g>\n<!-- 9&#45;&gt;11 -->\n<g id=\"edge11\" class=\"edge\">\n<title>9&#45;&gt;11</title>\n<path fill=\"none\" stroke=\"#000000\" d=\"M687.3891,-197.7171C717.2435,-192.1356 751.377,-185.7542 780.1125,-180.3819\"/>\n<polygon fill=\"#000000\" stroke=\"#000000\" points=\"780.8491,-183.8049 790.0356,-178.5267 779.5626,-176.9241 780.8491,-183.8049\"/>\n</g>\n<!-- 13 -->\n<g id=\"node14\" class=\"node\">\n<title>13</title>\n<polygon fill=\"#e58139\" fill-opacity=\"0.780392\" stroke=\"#000000\" points=\"897.1667,-124 790.1667,-124 790.1667,-71 897.1667,-71 897.1667,-124\"/>\n<text text-anchor=\"start\" x=\"807.1667\" y=\"-108.8\" font-family=\"Times,serif\" font-size=\"14.00\" fill=\"#000000\">mse = 0.153</text>\n<text text-anchor=\"start\" x=\"798.1667\" y=\"-93.8\" font-family=\"Times,serif\" font-size=\"14.00\" fill=\"#000000\">samples = 1370</text>\n<text text-anchor=\"start\" x=\"803.1667\" y=\"-78.8\" font-family=\"Times,serif\" font-size=\"14.00\" fill=\"#000000\">value = 7.513</text>\n</g>\n<!-- 12&#45;&gt;13 -->\n<g id=\"edge13\" class=\"edge\">\n<title>12&#45;&gt;13</title>\n<path fill=\"none\" stroke=\"#000000\" d=\"M693.7866,-97.5C721.9417,-97.5 753.1777,-97.5 779.8155,-97.5\"/>\n<polygon fill=\"#000000\" stroke=\"#000000\" points=\"780.1624,-101.0001 790.1624,-97.5 780.1624,-94.0001 780.1624,-101.0001\"/>\n</g>\n<!-- 14 -->\n<g id=\"node15\" class=\"node\">\n<title>14</title>\n<polygon fill=\"#e58139\" stroke=\"#000000\" points=\"893.6667,-53 793.6667,-53 793.6667,0 893.6667,0 893.6667,-53\"/>\n<text text-anchor=\"start\" x=\"807.1667\" y=\"-37.8\" font-family=\"Times,serif\" font-size=\"14.00\" fill=\"#000000\">mse = 0.212</text>\n<text text-anchor=\"start\" x=\"801.6667\" y=\"-22.8\" font-family=\"Times,serif\" font-size=\"14.00\" fill=\"#000000\">samples = 666</text>\n<text text-anchor=\"start\" x=\"803.1667\" y=\"-7.8\" font-family=\"Times,serif\" font-size=\"14.00\" fill=\"#000000\">value = 7.924</text>\n</g>\n<!-- 12&#45;&gt;14 -->\n<g id=\"edge14\" class=\"edge\">\n<title>12&#45;&gt;14</title>\n<path fill=\"none\" stroke=\"#000000\" d=\"M693.7866,-72.7673C723.3455,-63.6426 756.3002,-53.4697 783.7647,-44.9915\"/>\n<polygon fill=\"#000000\" stroke=\"#000000\" points=\"785.0956,-48.2437 793.6183,-41.9497 783.0308,-41.5551 785.0956,-48.2437\"/>\n</g>\n</g>\n</svg>\n"
          },
          "metadata": {
            "tags": []
          }
        }
      ]
    },
    {
      "metadata": {
        "id": "UdQmG13pfrqA",
        "colab_type": "code",
        "colab": {
          "base_uri": "https://localhost:8080/",
          "height": 35
        },
        "outputId": "e97ed8c9-f4bd-4501-f8d3-6a0e16c57612"
      },
      "cell_type": "code",
      "source": [
        "m = RandomForestRegressor(n_jobs=-1)\n",
        "m.fit(X_train, y_train)\n",
        "print_score(m, X_train, y_train, X_valid, y_valid)"
      ],
      "execution_count": 75,
      "outputs": [
        {
          "output_type": "stream",
          "text": [
            "[0.16802814991300247, 0.38024511827003715, 0.9330906126995481, 0.5987033863022302]\n"
          ],
          "name": "stdout"
        }
      ]
    },
    {
      "metadata": {
        "id": "z346p9nfgWV3",
        "colab_type": "code",
        "colab": {
          "base_uri": "https://localhost:8080/",
          "height": 69
        },
        "outputId": "23ede19b-0264-478d-94d4-ea55c15699ca"
      },
      "cell_type": "code",
      "source": [
        "\n",
        "preds = np.stack([t.predict(X_valid) for t in m.estimators_])\n",
        "preds[:,0], np.mean(preds[:,0]), y_valid[0]"
      ],
      "execution_count": 76,
      "outputs": [
        {
          "output_type": "execute_result",
          "data": {
            "text/plain": [
              "(array([5.98896, 5.99146, 6.31536, 5.8693 , 6.11147, 6.36647, 5.79606, 7.07834, 7.54486, 6.04501]),\n",
              " 6.310728437890559,\n",
              " 5.808142489980444)"
            ]
          },
          "metadata": {
            "tags": []
          },
          "execution_count": 76
        }
      ]
    },
    {
      "metadata": {
        "id": "_SINgxergf7B",
        "colab_type": "code",
        "colab": {
          "base_uri": "https://localhost:8080/",
          "height": 347
        },
        "outputId": "07e101a4-05dc-4efe-d406-4e5d45fce59f"
      },
      "cell_type": "code",
      "source": [
        "plt.plot([metrics.r2_score(y_valid, np.mean(preds[:i+1], axis=0)) for i in range(10)]);"
      ],
      "execution_count": 77,
      "outputs": [
        {
          "output_type": "display_data",
          "data": {
            "image/png": "[encoded data removed]",
            "text/plain": [
              "<matplotlib.figure.Figure at 0x7fe3daaa2208>"
            ]
          },
          "metadata": {
            "tags": []
          }
        }
      ]
    },
    {
      "metadata": {
        "id": "OqLtKssxgolX",
        "colab_type": "code",
        "colab": {
          "base_uri": "https://localhost:8080/",
          "height": 35
        },
        "outputId": "7c753321-c4b8-4578-f293-ba679a13ad62"
      },
      "cell_type": "code",
      "source": [
        "m = RandomForestRegressor(n_estimators=20, n_jobs=-1)\n",
        "m.fit(X_train, y_train)\n",
        "print_score(m, X_train, y_train, X_valid, y_valid)"
      ],
      "execution_count": 79,
      "outputs": [
        {
          "output_type": "stream",
          "text": [
            "[0.15517828555092011, 0.3679649861684756, 0.9429330238916961, 0.6242048323969247]\n"
          ],
          "name": "stdout"
        }
      ]
    },
    {
      "metadata": {
        "id": "99KeIMXhgvDQ",
        "colab_type": "code",
        "colab": {
          "base_uri": "https://localhost:8080/",
          "height": 35
        },
        "outputId": "16998408-1247-4581-aac8-7673a1b72e06"
      },
      "cell_type": "code",
      "source": [
        "m = RandomForestRegressor(n_estimators=30, n_jobs=-1)\n",
        "m.fit(X_train, y_train)\n",
        "print_score(m, X_train, y_train, X_valid, y_valid)"
      ],
      "execution_count": 80,
      "outputs": [
        {
          "output_type": "stream",
          "text": [
            "[0.14535910013640277, 0.36004420806152193, 0.9499265616971848, 0.6402093619236675]\n"
          ],
          "name": "stdout"
        }
      ]
    },
    {
      "metadata": {
        "id": "rmycfOgDg3XB",
        "colab_type": "code",
        "colab": {
          "base_uri": "https://localhost:8080/",
          "height": 35
        },
        "outputId": "8f3ae457-1e4e-4374-8a4d-209a6ceef761"
      },
      "cell_type": "code",
      "source": [
        "m = RandomForestRegressor(n_estimators=40, n_jobs=-1)\n",
        "m.fit(X_train, y_train)\n",
        "print_score(m, X_train, y_train, X_valid, y_valid)"
      ],
      "execution_count": 81,
      "outputs": [
        {
          "output_type": "stream",
          "text": [
            "[0.1457693852191841, 0.35814096948173896, 0.9496434919938014, 0.6440031046071885]\n"
          ],
          "name": "stdout"
        }
      ]
    },
    {
      "metadata": {
        "id": "1ncFlv8Kg8Wh",
        "colab_type": "code",
        "colab": {
          "base_uri": "https://localhost:8080/",
          "height": 35
        },
        "outputId": "0396e05e-e64a-4513-bbf7-91bb6470ea9d"
      },
      "cell_type": "code",
      "source": [
        "m = RandomForestRegressor(n_estimators=40, n_jobs=-1, oob_score=True)\n",
        "m.fit(X_train, y_train)\n",
        "print_score(m, X_train, y_train, X_valid, y_valid)"
      ],
      "execution_count": 82,
      "outputs": [
        {
          "output_type": "stream",
          "text": [
            "[0.14423751536933474, 0.3628273755480439, 0.9506963096562295, 0.634625448246915, 0.6461613525826477]\n"
          ],
          "name": "stdout"
        }
      ]
    },
    {
      "metadata": {
        "id": "LHU7-qwGhQhy",
        "colab_type": "code",
        "colab": {
          "base_uri": "https://localhost:8080/",
          "height": 104
        },
        "outputId": "792b5d1d-2e06-4667-9921-7be685fa5b25"
      },
      "cell_type": "code",
      "source": [
        "df_trn, y_trn, nas = proc_df(raw_df, 'trip_duration')\n",
        "X_train, X_valid = split_vals(df_trn, n_trn)\n",
        "y_train, y_valid = split_vals(y_trn, n_trn)"
      ],
      "execution_count": 83,
      "outputs": [
        {
          "output_type": "stream",
          "text": [
            "/usr/local/lib/python3.6/dist-packages/fastai/structured.py:425: SettingWithCopyWarning: \n",
            "A value is trying to be set on a copy of a slice from a DataFrame\n",
            "\n",
            "See the caveats in the documentation: http://pandas.pydata.org/pandas-docs/stable/indexing.html#indexing-view-versus-copy\n",
            "  df.drop(ignore_flds, axis=1, inplace=True)\n"
          ],
          "name": "stderr"
        }
      ]
    },
    {
      "metadata": {
        "id": "sji8igUEhlqo",
        "colab_type": "code",
        "colab": {}
      },
      "cell_type": "code",
      "source": [
        "set_rf_samples(20000)"
      ],
      "execution_count": 0,
      "outputs": []
    },
    {
      "metadata": {
        "id": "DStO_kcahtaA",
        "colab_type": "code",
        "colab": {
          "base_uri": "https://localhost:8080/",
          "height": 69
        },
        "outputId": "75b3ecd9-8ee1-43bf-9b4f-13e2ddd8ec9d"
      },
      "cell_type": "code",
      "source": [
        "m = RandomForestRegressor(n_jobs=-1, oob_score=True)\n",
        "%time m.fit(X_train, y_train)\n",
        "print_score(m, X_train, y_train, X_valid, y_valid)"
      ],
      "execution_count": 85,
      "outputs": [
        {
          "output_type": "stream",
          "text": [
            "CPU times: user 23.9 s, sys: 586 ms, total: 24.5 s\n",
            "Wall time: 17.7 s\n",
            "[0.3593521241744257, 0.353074414544494, 0.6750754010040978, 0.6540043043026624, 0.6653079217934195]\n"
          ],
          "name": "stdout"
        }
      ]
    },
    {
      "metadata": {
        "id": "lx35fFRih1-Z",
        "colab_type": "code",
        "colab": {
          "base_uri": "https://localhost:8080/",
          "height": 35
        },
        "outputId": "e8b6c826-547e-4cc7-9fa7-fea5e5052758"
      },
      "cell_type": "code",
      "source": [
        "m = RandomForestRegressor(n_estimators=40, n_jobs=-1, oob_score=True)\n",
        "m.fit(X_train, y_train)\n",
        "print_score(m, X_train, y_train, X_valid, y_valid)"
      ],
      "execution_count": 86,
      "outputs": [
        {
          "output_type": "stream",
          "text": [
            "[0.3432715682811139, 0.3306731127077387, 0.7035046905632757, 0.6965158824310607, 0.6942963311015942]\n"
          ],
          "name": "stdout"
        }
      ]
    },
    {
      "metadata": {
        "id": "Zzc8jGP9iA-R",
        "colab_type": "code",
        "colab": {
          "base_uri": "https://localhost:8080/",
          "height": 69
        },
        "outputId": "d1fe1b14-d6ba-4851-e5fe-f16546a84776"
      },
      "cell_type": "code",
      "source": [
        "m = RandomForestRegressor(n_estimators=80, n_jobs=-1, oob_score=True)\n",
        "%time m.fit(X_train, y_train)\n",
        "print_score(m, X_train, y_train, X_valid, y_valid)"
      ],
      "execution_count": 87,
      "outputs": [
        {
          "output_type": "stream",
          "text": [
            "CPU times: user 3min 19s, sys: 957 ms, total: 3min 20s\n",
            "Wall time: 2min 18s\n",
            "[0.34166383486352575, 0.32748525355033564, 0.706275494605366, 0.7023391632339581, 0.6970654758687367]\n"
          ],
          "name": "stdout"
        }
      ]
    },
    {
      "metadata": {
        "id": "irE0hTGglCai",
        "colab_type": "code",
        "colab": {}
      },
      "cell_type": "code",
      "source": [
        "reset_rf_samples()"
      ],
      "execution_count": 0,
      "outputs": []
    },
    {
      "metadata": {
        "id": "ULc2QcB3m7Dj",
        "colab_type": "code",
        "colab": {}
      },
      "cell_type": "code",
      "source": [
        "def dectree_max_depth(tree):\n",
        "    children_left = tree.children_left\n",
        "    children_right = tree.children_right\n",
        "\n",
        "    def walk(node_id):\n",
        "        if (children_left[node_id] != children_right[node_id]):\n",
        "            left_max = 1 + walk(children_left[node_id])\n",
        "            right_max = 1 + walk(children_right[node_id])\n",
        "            return max(left_max, right_max)\n",
        "        else: # leaf\n",
        "            return 1\n",
        "\n",
        "    root_node_id = 0\n",
        "    return walk(root_node_id)"
      ],
      "execution_count": 0,
      "outputs": []
    },
    {
      "metadata": {
        "id": "kV8QVU_NnOry",
        "colab_type": "code",
        "colab": {
          "base_uri": "https://localhost:8080/",
          "height": 69
        },
        "outputId": "a5f039ee-144f-4133-be07-9f54322de0e3"
      },
      "cell_type": "code",
      "source": [
        "m = RandomForestRegressor(n_estimators=40, n_jobs=-1, oob_score=True)\n",
        "%time m.fit(X_train, y_train)\n",
        "print_score(m, X_train, y_train, X_valid, y_valid)"
      ],
      "execution_count": 90,
      "outputs": [
        {
          "output_type": "stream",
          "text": [
            "CPU times: user 1h 2min 20s, sys: 8.03 s, total: 1h 2min 28s\n",
            "Wall time: 32min 10s\n",
            "[0.11463924543783029, 0.28397293273163127, 0.9669319339369783, 0.7761835030917646, 0.7634538627455449]\n"
          ],
          "name": "stdout"
        }
      ]
    },
    {
      "metadata": {
        "id": "7ip4v3JsnV1T",
        "colab_type": "code",
        "colab": {
          "base_uri": "https://localhost:8080/",
          "height": 35
        },
        "outputId": "e7317a54-5252-4d29-e5ff-17f32b2c2342"
      },
      "cell_type": "code",
      "source": [
        "t=m.estimators_[0].tree_\n",
        "dectree_max_depth(t)"
      ],
      "execution_count": 91,
      "outputs": [
        {
          "output_type": "execute_result",
          "data": {
            "text/plain": [
              "61"
            ]
          },
          "metadata": {
            "tags": []
          },
          "execution_count": 91
        }
      ]
    },
    {
      "metadata": {
        "id": "vrR9JmY_nikb",
        "colab_type": "code",
        "colab": {}
      },
      "cell_type": "code",
      "source": [
        "m = RandomForestRegressor(n_estimators=40, min_samples_leaf=5, n_jobs=-1, oob_score=True)\n",
        "%time m.fit(X_train, y_train)\n",
        "print_score(m, X_train, y_train, X_valid, y_valid)"
      ],
      "execution_count": 0,
      "outputs": []
    },
    {
      "metadata": {
        "id": "zmrqAgyOnpyD",
        "colab_type": "code",
        "colab": {}
      },
      "cell_type": "code",
      "source": [
        "t=m.estimators_[0].tree_\n",
        "dectree_max_depth(t)"
      ],
      "execution_count": 0,
      "outputs": []
    },
    {
      "metadata": {
        "id": "rMyHMPjgnzx0",
        "colab_type": "code",
        "colab": {}
      },
      "cell_type": "code",
      "source": [
        "m = RandomForestRegressor(n_estimators=40, min_samples_leaf=5, max_features=0.5, n_jobs=-1, oob_score=True)\n",
        "%time m.fit(X_train, y_train)\n",
        "print_score(m, X_train, y_train, X_valid, y_valid)"
      ],
      "execution_count": 0,
      "outputs": []
    },
    {
      "metadata": {
        "id": "tAhom69in4Js",
        "colab_type": "code",
        "colab": {}
      },
      "cell_type": "code",
      "source": [
        "set_rf_samples(50000)\n"
      ],
      "execution_count": 0,
      "outputs": []
    }
  ]
}